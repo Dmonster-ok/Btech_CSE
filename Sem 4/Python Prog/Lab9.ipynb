{
 "cells": [
  {
   "cell_type": "markdown",
   "metadata": {},
   "source": [
    "<a href='https://www.darshan.ac.in/'> <img src='https://www.darshan.ac.in/Content/media/DU_Logo.svg' width=\"250\" height=\"300\"/></a>\n",
    "<pre>\n",
    "<center><b><h1>Python Programming - 2301CS404</b></center>\n",
    "<center><b><h1>Lab - 9</b></center>    \n",
    "<center><b><h4>24010101675 Dhruv R. Pithwa</b></center>\n",
    "<pre>"
   ]
  },
  {
   "cell_type": "markdown",
   "metadata": {},
   "source": [
    "# File I/O"
   ]
  },
  {
   "cell_type": "markdown",
   "metadata": {},
   "source": [
    "### 01) WAP to read and display the contents of a text file. (also try to open the file in some other directory) \n",
    "#### - in the form of a string\n",
    "#### - line by line\n",
    "#### - in the form of a list"
   ]
  },
  {
   "cell_type": "code",
   "execution_count": 53,
   "metadata": {},
   "outputs": [
    {
     "name": "stdout",
     "output_type": "stream",
     "text": [
      "String:\n",
      "This is a sample text file.\n",
      "You can write any text you want here.\n",
      "Feel free to add more lines as needed.\n",
      "This is just an example.\n",
      "Another Content Writing \n",
      "\n",
      "line by line:\n",
      "This is a sample text file.\n",
      "\n",
      "You can write any text you want here.\n",
      "\n",
      "Feel free to add more lines as needed.\n",
      "\n",
      "\n",
      "in list:\n",
      "['This is a sample text file.\\n', 'You can write any text you want here.\\n', 'Feel free to add more lines as needed.\\n', 'This is just an example.\\n', 'Another Content Writing ']\n"
     ]
    }
   ],
   "source": [
    "fp = open('pub/file.txt', 'r')\n",
    "print('String:')\n",
    "print(fp.read())\n",
    "fp.seek(0)\n",
    "print('\\nline by line:')\n",
    "print(fp.readline())\n",
    "print(fp.readline())\n",
    "print(fp.readline())\n",
    "fp.seek(0)\n",
    "print('\\nin list:')\n",
    "print(fp.readlines())\n",
    "fp.close()"
   ]
  },
  {
   "cell_type": "markdown",
   "metadata": {},
   "source": [
    "### 02) WAP to create file named \"new.txt\" only if it doesn't exist."
   ]
  },
  {
   "cell_type": "code",
   "execution_count": 1,
   "metadata": {},
   "outputs": [],
   "source": [
    "fp = open('pub/new.txt', 'w')\n",
    "fp.write('Hello, world!')\n",
    "fp.close()"
   ]
  },
  {
   "cell_type": "markdown",
   "metadata": {},
   "source": [
    "### 03) WAP to read first 5 lines from the text file."
   ]
  },
  {
   "cell_type": "code",
   "execution_count": 2,
   "metadata": {},
   "outputs": [
    {
     "name": "stdout",
     "output_type": "stream",
     "text": [
      "This is a sample text file.\n",
      "You can write any text you want here.\n",
      "Feel free to add more lines as needed.\n",
      "This is just an example.\n",
      "Another Content Writing\n"
     ]
    }
   ],
   "source": [
    "fp = open('pub/file.txt', 'r')\n",
    "for i in range(5):\n",
    "    print(fp.readline(), end='')\n",
    "fp.close()"
   ]
  },
  {
   "cell_type": "markdown",
   "metadata": {},
   "source": [
    "### 04) WAP to find the longest word(s) in a file"
   ]
  },
  {
   "cell_type": "code",
   "execution_count": 3,
   "metadata": {},
   "outputs": [
    {
     "name": "stdout",
     "output_type": "stream",
     "text": [
      "7\n",
      "['example', 'Another', 'Content', 'Writing']\n"
     ]
    }
   ],
   "source": [
    "fp = open('pub/file.txt', 'r')\n",
    "words = fp.read().replace('.','').split()\n",
    "max_len = len(max(words, key=len))\n",
    "print(max_len)\n",
    "print([word for word in words if len(word) == max_len])\n",
    "fp.close()"
   ]
  },
  {
   "cell_type": "markdown",
   "metadata": {},
   "source": [
    "### 05) WAP to count the no. of lines, words and characters in a given text file."
   ]
  },
  {
   "cell_type": "code",
   "execution_count": 49,
   "metadata": {},
   "outputs": [
    {
     "name": "stdout",
     "output_type": "stream",
     "text": [
      "lines: 5 words: 30 chars: 120\n"
     ]
    }
   ],
   "source": [
    "fp = open('pub/file.txt', 'r')\n",
    "lines = len(fp.readlines())\n",
    "fp.seek(0)\n",
    "words = len(fp.read().split())\n",
    "fp.seek(0)\n",
    "chars = len(''.join(fp.read().replace('.','').split()))\n",
    "print('lines:', lines, 'words:', words, 'chars:', chars)\n",
    "fp.close()"
   ]
  },
  {
   "cell_type": "markdown",
   "metadata": {},
   "source": [
    "### 06) WAP to copy the content of a file to the another file."
   ]
  },
  {
   "cell_type": "code",
   "execution_count": 63,
   "metadata": {},
   "outputs": [
    {
     "name": "stdout",
     "output_type": "stream",
     "text": [
      "This is a sample text file.\n",
      "You can write any text you want here.\n",
      "Feel free to add more lines as needed.\n",
      "This is just an example.\n",
      "Another Content Writing \n"
     ]
    }
   ],
   "source": [
    "with open('pub/file.txt', 'r') as fp:\n",
    "    content = fp.read()\n",
    "    cp = open(fp.name.replace('.txt',' copy.txt'), 'w+')\n",
    "    cp.write(content)\n",
    "    cp.seek(0)\n",
    "    print(cp.read())\n",
    "    cp.close()\n"
   ]
  },
  {
   "cell_type": "markdown",
   "metadata": {},
   "source": [
    "### 07) WAP to find the size of the text file. "
   ]
  },
  {
   "cell_type": "code",
   "execution_count": 68,
   "metadata": {},
   "outputs": [
    {
     "name": "stdout",
     "output_type": "stream",
     "text": [
      "file size in kb: 0.154\n"
     ]
    }
   ],
   "source": [
    "import os\n",
    "\n",
    "fileSize = os.stat('pub/file.txt').st_size\n",
    "print('file size in kb: {:.3f}'.format(fileSize/1024))"
   ]
  },
  {
   "cell_type": "markdown",
   "metadata": {},
   "source": [
    "### 08) WAP to create an UDF named frequency to count occurances of the specific word in a given text file."
   ]
  },
  {
   "cell_type": "code",
   "execution_count": 70,
   "metadata": {},
   "outputs": [
    {
     "name": "stdout",
     "output_type": "stream",
     "text": [
      "5\n"
     ]
    }
   ],
   "source": [
    "def frequency(file,word):\n",
    "    with open(file, 'r') as fp:\n",
    "        content = fp.read().replace('.','').split()\n",
    "        return content.count(word)\n",
    "    \n",
    "print(frequency('pub/file.txt', 'Python'))"
   ]
  },
  {
   "cell_type": "markdown",
   "metadata": {},
   "source": [
    "### 09) WAP to get the score of five subjects from the user, store them in a file. Fetch those marks and find the highest score."
   ]
  },
  {
   "cell_type": "code",
   "execution_count": null,
   "metadata": {},
   "outputs": [
    {
     "name": "stdout",
     "output_type": "stream",
     "text": [
      "120\n"
     ]
    }
   ],
   "source": [
    "def set_scores():\n",
    "    while True:\n",
    "        score = input('Enter score (q to quit): ')\n",
    "        if score == 'q':\n",
    "            break\n",
    "        with open('pub/scores.txt', 'a') as fp:\n",
    "            fp.write(score+', ')\n",
    "\n",
    "def max_score(file):\n",
    "    with open(file, 'r') as fp:\n",
    "        scores = list(map(int, fp.read().replace(',',' ').split()))\n",
    "        return max(scores)\n",
    "\n",
    "# set_scores()\n",
    "print(max_score('pub/scores.txt'))"
   ]
  },
  {
   "cell_type": "markdown",
   "metadata": {},
   "source": [
    "### 10) WAP to write first 100 prime numbers to a file named primenumbers.txt \n",
    "(Note: each number should be in new line)"
   ]
  },
  {
   "cell_type": "code",
   "execution_count": null,
   "metadata": {},
   "outputs": [
    {
     "name": "stdout",
     "output_type": "stream",
     "text": [
      "[2, 3, 5, 7, 11]\n"
     ]
    }
   ],
   "source": [
    "def is_prime(n):\n",
    "    for i in range(2, n//2+1):\n",
    "        if n % i == 0:\n",
    "            return 0\n",
    "    return 1\n",
    "\n",
    "def first_n_primes(n):\n",
    "    primes = []\n",
    "    i = 2\n",
    "    while len(primes) < n:\n",
    "        if is_prime(i):\n",
    "            primes.append(i)\n",
    "        i += 1\n",
    "    return primes\n",
    "\n",
    "def write_primes(file, n):\n",
    "    with open(file, 'w') as fp:\n",
    "        for prime in first_n_primes(n):\n",
    "            fp.write(str(prime)+'\\n')\n",
    "\n",
    "def read_primes(file):\n",
    "    with open(file, 'r') as fp:\n",
    "        return list(map(int, fp.readlines()))\n",
    "\n",
    "write_primes('pub/primenumbers.txt', 5)\n",
    "print(read_primes('pub/primenumbers.txt'))"
   ]
  },
  {
   "cell_type": "markdown",
   "metadata": {},
   "source": [
    "### 11) WAP to merge two files and write it in a new file."
   ]
  },
  {
   "cell_type": "code",
   "execution_count": 84,
   "metadata": {},
   "outputs": [
    {
     "name": "stdout",
     "output_type": "stream",
     "text": [
      "This is a sample text file.\n",
      "You can write any text you want here.\n",
      "Feel free to add more lines as needed.\n",
      "This is just an example.\n",
      "Another Content Writing\n",
      "Python Python Python Python Python\n",
      "Hello, world!\n"
     ]
    }
   ],
   "source": [
    "def merge_files(file1, file2, file3):\n",
    "    with open(file1, 'r') as fp1, open(file2, 'r') as fp2, open(file3, 'w') as fp3:\n",
    "        fp3.write(fp1.read() + '\\n' +fp2.read())\n",
    "\n",
    "def read_file(file):\n",
    "    with open(file, 'r') as fp:\n",
    "        print(fp.read())\n",
    "\n",
    "merge_files('pub/file.txt', 'pub/new.txt', 'pub/merged.txt')\n",
    "read_file('pub/merged.txt')"
   ]
  },
  {
   "cell_type": "markdown",
   "metadata": {},
   "source": [
    "### 12) WAP to replace word1 by word2 of a text file. Write the updated data to new file."
   ]
  },
  {
   "cell_type": "code",
   "execution_count": 85,
   "metadata": {},
   "outputs": [
    {
     "name": "stdout",
     "output_type": "stream",
     "text": [
      "This is a sample text file.\n",
      "You can write any text you want here.\n",
      "Feel free to add more lines as needed.\n",
      "This is just an example.\n",
      "Another Content Writing\n",
      "Java Java Java Java Java\n"
     ]
    }
   ],
   "source": [
    "def update_file(file, old, new):\n",
    "    with open(file, 'r') as fp:\n",
    "        content = fp.read()\n",
    "    with open(fp.name.replace('.txt',' updated.txt'), 'w') as fp:\n",
    "        fp.write(content.replace(old, new))\n",
    "\n",
    "update_file('pub/file.txt', 'Python', 'Java')\n",
    "read_file('pub/file updated.txt')"
   ]
  },
  {
   "cell_type": "markdown",
   "metadata": {},
   "source": [
    "### 13) Demonstrate tell() and seek() for all the cases(seek from beginning-end-current position) taking a suitable example of your choice."
   ]
  },
  {
   "cell_type": "code",
   "execution_count": 93,
   "metadata": {},
   "outputs": [
    {
     "name": "stdout",
     "output_type": "stream",
     "text": [
      "cursor position (tell): 0\n",
      "cursor position (seek from start): 5\n",
      "cursor position (seek from current): 10\n",
      "cursor position (seek from end): 188\n",
      "ython\n"
     ]
    }
   ],
   "source": [
    "with open('pub/file.txt', 'rb') as fp:\n",
    "    print('cursor position (tell):', fp.tell())\n",
    "    print('cursor position (seek from start):', fp.seek(5,0))\n",
    "    print('cursor position (seek from current):', fp.seek(5,1))\n",
    "    print('cursor position (seek from end):', fp.seek(-5,2))\n",
    "    print(fp.read().decode())"
   ]
  }
 ],
 "metadata": {
  "kernelspec": {
   "display_name": "Python 3",
   "language": "python",
   "name": "python3"
  },
  "language_info": {
   "codemirror_mode": {
    "name": "ipython",
    "version": 3
   },
   "file_extension": ".py",
   "mimetype": "text/x-python",
   "name": "python",
   "nbconvert_exporter": "python",
   "pygments_lexer": "ipython3",
   "version": "3.13.0"
  }
 },
 "nbformat": 4,
 "nbformat_minor": 4
}
