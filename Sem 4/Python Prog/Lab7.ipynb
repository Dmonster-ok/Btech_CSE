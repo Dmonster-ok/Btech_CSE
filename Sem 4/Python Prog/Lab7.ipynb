{
 "cells": [
  {
   "cell_type": "markdown",
   "metadata": {},
   "source": [
    "<a href='https://www.darshan.ac.in/'> <img src='https://www.darshan.ac.in/Content/media/DU_Logo.svg' width=\"250\" height=\"300\"/></a>\n",
    "<pre>\n",
    "<center><b><h1>Python Programming - 2301CS404</b></center>\n",
    "<center><b><h1>Lab - 7</b></center>    \n",
    "<pre>"
   ]
  },
  {
   "cell_type": "markdown",
   "metadata": {},
   "source": [
    "# Set & Dictionary"
   ]
  },
  {
   "cell_type": "markdown",
   "metadata": {},
   "source": [
    "### 01) WAP to iterate over a set."
   ]
  },
  {
   "cell_type": "code",
   "execution_count": 26,
   "metadata": {},
   "outputs": [
    {
     "name": "stdout",
     "output_type": "stream",
     "text": [
      "1 2 3 4 5 "
     ]
    }
   ],
   "source": [
    "s = {1,2,3,4,5}\n",
    "\n",
    "for i in s:\n",
    "    print(i, end=' ')"
   ]
  },
  {
   "cell_type": "markdown",
   "metadata": {},
   "source": [
    "### 02) WAP to convert set into list, string and tuple."
   ]
  },
  {
   "cell_type": "code",
   "execution_count": 29,
   "metadata": {},
   "outputs": [
    {
     "name": "stdout",
     "output_type": "stream",
     "text": [
      "[1, 2, 3, 4, 5]\n",
      "(1, 2, 3, 4, 5)\n",
      "1,2,3,4,5\n"
     ]
    }
   ],
   "source": [
    "ls = list(s)\n",
    "tp = tuple(s)\n",
    "string = ','.join(str(i) for i in s)\n",
    "\n",
    "print(ls)\n",
    "print(tp)\n",
    "print(string)"
   ]
  },
  {
   "cell_type": "markdown",
   "metadata": {},
   "source": [
    "### 03) WAP to find Maximum and Minimum from a set."
   ]
  },
  {
   "cell_type": "code",
   "execution_count": 30,
   "metadata": {},
   "outputs": [
    {
     "name": "stdout",
     "output_type": "stream",
     "text": [
      "5\n",
      "1\n"
     ]
    }
   ],
   "source": [
    "max = max(s)\n",
    "min = min(s)\n",
    "\n",
    "print(max)\n",
    "print(min)"
   ]
  },
  {
   "cell_type": "markdown",
   "metadata": {},
   "source": [
    "### 04) WAP to perform union of two sets."
   ]
  },
  {
   "cell_type": "code",
   "execution_count": 31,
   "metadata": {},
   "outputs": [
    {
     "name": "stdout",
     "output_type": "stream",
     "text": [
      "{1, 2, 3, 4, 5, 6, 7, 8}\n"
     ]
    }
   ],
   "source": [
    "s1 = {1,2,3,4,5}\n",
    "s2 = {4,5,6,7,8}\n",
    "\n",
    "print(s1.union(s2))"
   ]
  },
  {
   "cell_type": "markdown",
   "metadata": {},
   "source": [
    "### 05) WAP to check if two lists have at-least one element common."
   ]
  },
  {
   "cell_type": "code",
   "execution_count": 37,
   "metadata": {},
   "outputs": [
    {
     "name": "stdout",
     "output_type": "stream",
     "text": [
      "Common elements are: {4, 5}\n"
     ]
    }
   ],
   "source": [
    "ls1 = [1,2,3,4,5]\n",
    "ls2 = [4,5,6,7,8]\n",
    "\n",
    "def filter_list(ls1, ls2):\n",
    "    ans = set(ls1).intersection(set(ls2))\n",
    "    if len(ans) > 0:\n",
    "        print(\"Common elements are:\", ans)\n",
    "        return\n",
    "    print(\"No common elements\")\n",
    "\n",
    "filter_list(ls1, ls2)"
   ]
  },
  {
   "cell_type": "markdown",
   "metadata": {},
   "source": [
    "### 06) WAP to remove duplicates from list."
   ]
  },
  {
   "cell_type": "code",
   "execution_count": 42,
   "metadata": {},
   "outputs": [
    {
     "name": "stdout",
     "output_type": "stream",
     "text": [
      "[1, 2, 3, 4, 5]\n"
     ]
    }
   ],
   "source": [
    "ls = [1,2,2,3,4,5]\n",
    "\n",
    "def remove_duplicates(ls):\n",
    "    return list(set(ls))\n",
    "print(remove_duplicates(ls))"
   ]
  },
  {
   "cell_type": "markdown",
   "metadata": {},
   "source": [
    "### 07) WAP to find unique words in the given string."
   ]
  },
  {
   "cell_type": "code",
   "execution_count": 54,
   "metadata": {},
   "outputs": [
    {
     "name": "stdout",
     "output_type": "stream",
     "text": [
      "{'Python', 'Hello', 'World'}\n"
     ]
    }
   ],
   "source": [
    "String = \"Hello World Hello Python\"\n",
    "unique_words = set(String.split())\n",
    "print(unique_words)"
   ]
  },
  {
   "cell_type": "markdown",
   "metadata": {},
   "source": [
    "### 08) WAP to remove common elements of set A & B from set A."
   ]
  },
  {
   "cell_type": "code",
   "execution_count": 55,
   "metadata": {},
   "outputs": [
    {
     "name": "stdout",
     "output_type": "stream",
     "text": [
      "{1, 2, 3}\n"
     ]
    }
   ],
   "source": [
    "A = {1,2,3,4,5}\n",
    "B = {4,5,6,7,8}\n",
    "\n",
    "print(A.difference(B))"
   ]
  },
  {
   "cell_type": "markdown",
   "metadata": {},
   "source": [
    "### 09) WAP to check whether two given strings are anagram or not using set."
   ]
  },
  {
   "cell_type": "code",
   "execution_count": 74,
   "metadata": {},
   "outputs": [
    {
     "name": "stdout",
     "output_type": "stream",
     "text": [
      "False\n"
     ]
    }
   ],
   "source": [
    "strA = 'aab'\n",
    "strB = 'abb'\n",
    "\n",
    "def udf_findOccurrence(el):\n",
    "    result = {}\n",
    "    for i in el:\n",
    "        if i not in result:\n",
    "            result[i] = 1\n",
    "        else:\n",
    "            result[i] += 1\n",
    "\n",
    "    return result\n",
    "\n",
    "def isAnagram(strA, strB):\n",
    "    return udf_findOccurrence(strA) == udf_findOccurrence(strB)\n",
    "\n",
    "print(isAnagram(strA, strB))"
   ]
  },
  {
   "cell_type": "markdown",
   "metadata": {},
   "source": [
    "### 10) WAP to find common elements in three lists using set."
   ]
  },
  {
   "cell_type": "code",
   "execution_count": 76,
   "metadata": {},
   "outputs": [
    {
     "name": "stdout",
     "output_type": "stream",
     "text": [
      "{1, 4, 5}\n"
     ]
    }
   ],
   "source": [
    "ls1 = [1,2,3,4,5]\n",
    "ls2 = [4,5,6,7,8,1]\n",
    "ls3 = [1,2,9,4,5]\n",
    "\n",
    "def find_common(ls1, ls2, ls3):\n",
    "    return set(ls1).intersection(set(ls2), set(ls3))\n",
    "\n",
    "print(find_common(ls1, ls2, ls3))"
   ]
  },
  {
   "cell_type": "markdown",
   "metadata": {},
   "source": [
    "### 11) WAP to count number of vowels in given string using set."
   ]
  },
  {
   "cell_type": "code",
   "execution_count": 80,
   "metadata": {},
   "outputs": [
    {
     "name": "stdout",
     "output_type": "stream",
     "text": [
      "3\n"
     ]
    }
   ],
   "source": [
    "string = \"Hello World\"\n",
    "\n",
    "def find_num_of_vowels(string):\n",
    "    vowels = {'a','e','i','o','u'}\n",
    "    count = 0\n",
    "    for i in string:\n",
    "        if i in vowels:\n",
    "            count += 1\n",
    "    return count\n",
    "\n",
    "print(find_num_of_vowels(string))"
   ]
  },
  {
   "cell_type": "markdown",
   "metadata": {},
   "source": [
    "### 12) WAP to check if a given string is binary string or not."
   ]
  },
  {
   "cell_type": "code",
   "execution_count": 2,
   "metadata": {},
   "outputs": [
    {
     "name": "stdout",
     "output_type": "stream",
     "text": [
      "True\n"
     ]
    }
   ],
   "source": [
    "string = \"010101010101\"\n",
    "\n",
    "def is_binary(string):\n",
    "    return set(string) == {'0','1'}\n",
    "\n",
    "print(is_binary(string))"
   ]
  },
  {
   "cell_type": "markdown",
   "metadata": {},
   "source": [
    "### 13) WAP to sort dictionary by key or value."
   ]
  },
  {
   "cell_type": "code",
   "execution_count": 6,
   "metadata": {},
   "outputs": [
    {
     "name": "stdout",
     "output_type": "stream",
     "text": [
      "Sorted by key: {1: 30, 2: 40, 3: 20, 4: 10}\n",
      "Sorted by value: {4: 10, 3: 20, 1: 30, 2: 40}\n"
     ]
    }
   ],
   "source": [
    "dict1 = {2:40, 3:20, 1:30, 4:10}\n",
    "\n",
    "def sort_dict(d, by_key=True):\n",
    "    if by_key:\n",
    "        return dict(sorted(d.items()))\n",
    "    else:\n",
    "        return dict(sorted(d.items(), key=lambda item: item[1]))\n",
    "\n",
    "print(\"Sorted by key:\", sort_dict(dict1, by_key=True))\n",
    "print(\"Sorted by value:\", sort_dict(dict1, by_key=False))"
   ]
  },
  {
   "cell_type": "markdown",
   "metadata": {},
   "source": [
    "### 14) WAP to find the sum of all items (values) in a dictionary given by user. (Assume: values are numeric)"
   ]
  },
  {
   "cell_type": "code",
   "execution_count": 7,
   "metadata": {},
   "outputs": [
    {
     "name": "stdout",
     "output_type": "stream",
     "text": [
      "{1: 5, 2: 6, 3: 7, 4: 8}\n",
      "Sum: 26\n"
     ]
    }
   ],
   "source": [
    "\n",
    "def create_dict():\n",
    "    key = 1\n",
    "    dict1 = {}\n",
    "    while True:\n",
    "        val = input(\"Enter a number (q to quit): \")\n",
    "        if val == 'q':\n",
    "            break\n",
    "        dict1[key] = int(val)\n",
    "        key += 1\n",
    "    return dict1\n",
    "\n",
    "dict1 = create_dict()\n",
    "\n",
    "print(dict1)\n",
    "print('Sum:', sum(dict1.values()))"
   ]
  },
  {
   "cell_type": "markdown",
   "metadata": {},
   "source": [
    "### 15) WAP to handle missing keys in dictionaries.\n",
    "#### Example : Given, dict1 = {'a': 5, 'c': 8, 'e': 2} \n",
    "#### if you look for key = 'd', the message given should be 'Key Not Found', otherwise print the value of 'd' in dict1."
   ]
  },
  {
   "cell_type": "code",
   "execution_count": 10,
   "metadata": {},
   "outputs": [
    {
     "name": "stdout",
     "output_type": "stream",
     "text": [
      "Key not found\n"
     ]
    }
   ],
   "source": [
    "dect1 = {'a': 100, 'b': 200, 'c': 300}\n",
    "\n",
    "def find_key(d, key):\n",
    "    if key in d:\n",
    "        return {key: d[key]}\n",
    "    return 'Key not found'\n",
    "\n",
    "print(find_key(dect1, 'd'))"
   ]
  }
 ],
 "metadata": {
  "kernelspec": {
   "display_name": "Python 3",
   "language": "python",
   "name": "python3"
  },
  "language_info": {
   "codemirror_mode": {
    "name": "ipython",
    "version": 3
   },
   "file_extension": ".py",
   "mimetype": "text/x-python",
   "name": "python",
   "nbconvert_exporter": "python",
   "pygments_lexer": "ipython3",
   "version": "3.13.0"
  }
 },
 "nbformat": 4,
 "nbformat_minor": 4
}
