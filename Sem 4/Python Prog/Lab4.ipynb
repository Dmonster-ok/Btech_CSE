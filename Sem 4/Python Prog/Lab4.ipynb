{
 "cells": [
  {
   "cell_type": "markdown",
   "metadata": {},
   "source": [
    "\n",
    "<a href='https://www.darshan.ac.in/'> <img src='https://www.darshan.ac.in/Content/media/DU_Logo.svg' width=\"250\" height=\"300\"/></a>\n",
    "<pre>\n",
    "<center><b><h1>Python Programming - 2301CS404</b></center>\n",
    "<center><b><h1>Lab - 4</b></center>    \n",
    "<pre>"
   ]
  },
  {
   "cell_type": "markdown",
   "metadata": {},
   "source": [
    "# String"
   ]
  },
  {
   "cell_type": "markdown",
   "metadata": {},
   "source": [
    "### 01) WAP to check whether the given string is palindrome or not."
   ]
  },
  {
   "cell_type": "code",
   "execution_count": null,
   "metadata": {},
   "outputs": [],
   "source": [
    "str1 = input('Enter a string: ')\n",
    "print(str1,' is ', '' if str1 == str1[::-1] else 'not ', 'a palindrome', sep='')"
   ]
  },
  {
   "cell_type": "markdown",
   "metadata": {},
   "source": [
    "### 02) WAP to reverse the words in the given string."
   ]
  },
  {
   "cell_type": "code",
   "execution_count": null,
   "metadata": {},
   "outputs": [],
   "source": [
    "str1 = input('Enter a string: ')\n",
    "print(' '.join(str1.split(' ')[::-1]))\n",
    "for i in  str1.split(' '):\n",
    "    print(i[::-1], end=' ')"
   ]
  },
  {
   "cell_type": "markdown",
   "metadata": {},
   "source": [
    "### 03) WAP to remove ith character from given string."
   ]
  },
  {
   "cell_type": "code",
   "execution_count": null,
   "metadata": {},
   "outputs": [],
   "source": [
    "str1 = input('Enter a string: ')\n",
    "i = int(input('Enter a index: '))\n",
    "print( str1.replace(str1[i+1], '', 1) )"
   ]
  },
  {
   "cell_type": "markdown",
   "metadata": {},
   "source": [
    "### 04) WAP to find length of string without using len function."
   ]
  },
  {
   "cell_type": "code",
   "execution_count": null,
   "metadata": {},
   "outputs": [],
   "source": [
    "str1 = input('Enter a string: ')\n",
    "c = 0\n",
    "for i in str1: c += 1\n",
    "\n",
    "print(c)"
   ]
  },
  {
   "cell_type": "markdown",
   "metadata": {},
   "source": [
    "### 05) WAP to print even length word in string."
   ]
  },
  {
   "cell_type": "code",
   "execution_count": null,
   "metadata": {},
   "outputs": [],
   "source": [
    "str1 = input('Enter a string: ')\n",
    "for i in str1.split(' '):\n",
    "    if (len(i)%2 == 0):\n",
    "        print(i, end=' ')"
   ]
  },
  {
   "cell_type": "markdown",
   "metadata": {},
   "source": [
    "### 06) WAP to count numbers of vowels in given string."
   ]
  },
  {
   "cell_type": "code",
   "execution_count": null,
   "metadata": {},
   "outputs": [],
   "source": [
    "str1 = input('Enter a string: ')\n",
    "vowel = ['a', 'e', 'i', 'o', 'u']\n",
    "c = 0\n",
    "for i in str1:\n",
    "    if i in vowel:\n",
    "        c += 1\n",
    "print(c, 'vowels in', str1)"
   ]
  },
  {
   "cell_type": "markdown",
   "metadata": {},
   "source": [
    "### 07) WAP to capitalize the first and last character of each word in a string."
   ]
  },
  {
   "cell_type": "code",
   "execution_count": 75,
   "metadata": {},
   "outputs": [
    {
     "name": "stdout",
     "output_type": "stream",
     "text": [
      "HhhH WwwW "
     ]
    }
   ],
   "source": [
    "str1 = input('Enter a string: ')\n",
    "for i in str1.split(' '):\n",
    "    i = i[0].upper() + i[1:-1] +i[-1].upper()\n",
    "    print(i,end=' ')"
   ]
  },
  {
   "cell_type": "markdown",
   "metadata": {},
   "source": [
    "### 08) WAP to convert given array to string."
   ]
  },
  {
   "cell_type": "code",
   "execution_count": 2,
   "metadata": {},
   "outputs": [
    {
     "name": "stdout",
     "output_type": "stream",
     "text": [
      "12345\n"
     ]
    }
   ],
   "source": [
    "arr = [1, 2, 3, 4, 5]\n",
    "\n",
    "print(''.join(map(str, arr)))"
   ]
  },
  {
   "cell_type": "markdown",
   "metadata": {},
   "source": [
    "### 09) Check if the password and confirm password is same or not. \n",
    "### In case of only case's mistake, show the error message."
   ]
  },
  {
   "cell_type": "code",
   "execution_count": 13,
   "metadata": {},
   "outputs": [
    {
     "name": "stdout",
     "output_type": "stream",
     "text": [
      "Password match\n"
     ]
    }
   ],
   "source": [
    "pas = input('Enter a password: ').strip()\n",
    "cpas = input('Enter confirm password: ').strip()\n",
    "flag = True\n",
    "for i in pas:\n",
    "    if i not in cpas:\n",
    "        flag = False\n",
    "        print('Password not match at', pas.index(i))\n",
    "        break\n",
    "if flag: print('Password match')"
   ]
  },
  {
   "cell_type": "markdown",
   "metadata": {},
   "source": [
    "### 10) : Display credit card number. \n",
    "### card no. : 1234 5678 9012 3456\n",
    "### display as  : **** **** **** 3456"
   ]
  },
  {
   "cell_type": "code",
   "execution_count": 39,
   "metadata": {},
   "outputs": [
    {
     "name": "stdout",
     "output_type": "stream",
     "text": [
      "**** **** **** 2313\n"
     ]
    }
   ],
   "source": [
    "cardno = input('Enter a card number (space seprated)')\n",
    "\n",
    "cardno = cardno.split(' ')\n",
    "result = ''\n",
    "\n",
    "for i in range(len(cardno)-1):\n",
    "    i = cardno[i]\n",
    "    result += i.replace(i[::], '*'*len(i)+' ')\n",
    "\n",
    "result += cardno[-1]\n",
    "print(result)"
   ]
  },
  {
   "cell_type": "markdown",
   "metadata": {},
   "source": [
    "### 11) : Checking if the two strings are Anagram or not.\n",
    "### s1 = decimal and s2 = medical are Anagram"
   ]
  },
  {
   "cell_type": "code",
   "execution_count": 1,
   "metadata": {},
   "outputs": [
    {
     "name": "stdout",
     "output_type": "stream",
     "text": [
      "aab and abb are Not Anagram\n"
     ]
    }
   ],
   "source": [
    "str1 = input('Enter a string: ')\n",
    "str2 = input('Enter a string: ')\n",
    "\n",
    "print(str1,'and',str2,'are','Anagram' if sorted(str1) == sorted(str2) else 'Not Anagram')"
   ]
  },
  {
   "cell_type": "markdown",
   "metadata": {},
   "source": [
    "### 12) : Rearrange the given string. First lowercase then uppercase alphabets.\n",
    "### input : EHlsarwiwhtwMV\n",
    "### output : lsarwiwhtwEHMV"
   ]
  },
  {
   "cell_type": "code",
   "execution_count": 43,
   "metadata": {},
   "outputs": [
    {
     "name": "stdout",
     "output_type": "stream",
     "text": [
      "asdasdaHHASASA\n"
     ]
    }
   ],
   "source": [
    "str1 = input('Enter a string: ')\n",
    "up = ''\n",
    "low = ''\n",
    "\n",
    "for i in str1:\n",
    "    if i.isupper(): up += i\n",
    "    else: low += i\n",
    "\n",
    "print(low + up)"
   ]
  }
 ],
 "metadata": {
  "kernelspec": {
   "display_name": "Python 3",
   "language": "python",
   "name": "python3"
  },
  "language_info": {
   "codemirror_mode": {
    "name": "ipython",
    "version": 3
   },
   "file_extension": ".py",
   "mimetype": "text/x-python",
   "name": "python",
   "nbconvert_exporter": "python",
   "pygments_lexer": "ipython3",
   "version": "3.13.0"
  }
 },
 "nbformat": 4,
 "nbformat_minor": 4
}
