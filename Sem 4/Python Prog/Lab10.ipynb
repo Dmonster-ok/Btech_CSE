{
 "cells": [
  {
   "cell_type": "markdown",
   "metadata": {},
   "source": [
    "<a href='https://www.darshan.ac.in/'> <img src='https://www.darshan.ac.in/Content/media/DU_Logo.svg' width=\"250\" height=\"300\"/></a>\n",
    "<pre>\n",
    "<center><b><h1>Python Programming - 2301CS404</b></center>\n",
    "<center><b><h1>Lab - 10</b></center>    \n",
    "<center><b><h4>24010101675 Dhruv R. Pithwa</b></center>\n",
    "<pre>"
   ]
  },
  {
   "cell_type": "markdown",
   "metadata": {},
   "source": [
    "# Exception Handling"
   ]
  },
  {
   "cell_type": "markdown",
   "metadata": {},
   "source": [
    "### 01) WAP to handle following exceptions:\n",
    "1. ZeroDivisionError\n",
    "2. ValueError\n",
    "3. TypeError\n",
    "#### Note: handle them using separate except blocks and also using single except block too."
   ]
  },
  {
   "cell_type": "code",
   "execution_count": 4,
   "metadata": {},
   "outputs": [
    {
     "name": "stdout",
     "output_type": "stream",
     "text": [
      "ZeroDivisionError('division by zero')\n",
      "ValueError(\"invalid literal for int() with base 10: 'a'\")\n",
      "TypeError('can only concatenate str (not \"int\") to str')\n"
     ]
    }
   ],
   "source": [
    "try:\n",
    "    print(5/0)\n",
    "except ZeroDivisionError as e:\n",
    "    print(repr(e))\n",
    "\n",
    "try:\n",
    "    print(int('a'))\n",
    "except ValueError as e:\n",
    "    print(repr(e))\n",
    "\n",
    "try:\n",
    "    print('a'+5)\n",
    "except TypeError as e:\n",
    "    print(repr(e))"
   ]
  },
  {
   "cell_type": "markdown",
   "metadata": {},
   "source": [
    "### 02)  WAP to handle following exceptions:\n",
    "1. IndexError\n",
    "2. KeyError"
   ]
  },
  {
   "cell_type": "code",
   "execution_count": 5,
   "metadata": {},
   "outputs": [
    {
     "name": "stdout",
     "output_type": "stream",
     "text": [
      "IndexError('list index out of range')\n",
      "KeyError(3)\n"
     ]
    }
   ],
   "source": [
    "try:\n",
    "    lst = [1, 2, 3]\n",
    "    print(lst[3])\n",
    "except IndexError as e:\n",
    "    print(repr(e))\n",
    "\n",
    "try:\n",
    "    d = {1: 2}\n",
    "    print(d[3])\n",
    "except KeyError as e:\n",
    "    print('Invalid key',repr(e))"
   ]
  },
  {
   "cell_type": "markdown",
   "metadata": {},
   "source": [
    "### 03) WAP to handle following exceptions:\n",
    "1. FileNotFoundError\n",
    "2. ModuleNotFoundError"
   ]
  },
  {
   "cell_type": "code",
   "execution_count": 9,
   "metadata": {},
   "outputs": [
    {
     "name": "stdout",
     "output_type": "stream",
     "text": [
      "FileNotFoundError(2, 'No such file or directory')\n",
      "ModuleNotFoundError(\"No module named 'unknown'\")\n"
     ]
    }
   ],
   "source": [
    "try:\n",
    "    fp = open('unknown.txt')\n",
    "except FileNotFoundError as e:\n",
    "    print(repr(e))\n",
    "else:\n",
    "    fp.close()\n",
    "\n",
    "try:\n",
    "    import unknown\n",
    "except ModuleNotFoundError as e:\n",
    "    print(repr(e))"
   ]
  },
  {
   "cell_type": "markdown",
   "metadata": {},
   "source": [
    "### 04) WAP that catches all type of exceptions in a single except block."
   ]
  },
  {
   "cell_type": "code",
   "execution_count": 10,
   "metadata": {},
   "outputs": [
    {
     "name": "stdout",
     "output_type": "stream",
     "text": [
      "NameError(\"name 'unknown' is not defined\")\n"
     ]
    }
   ],
   "source": [
    "try:\n",
    "    print(unknown)\n",
    "except Exception as e:\n",
    "    print(repr(e))"
   ]
  },
  {
   "cell_type": "markdown",
   "metadata": {},
   "source": [
    "### 05) WAP to demonstrate else  and finally block."
   ]
  },
  {
   "cell_type": "code",
   "execution_count": 13,
   "metadata": {},
   "outputs": [
    {
     "name": "stdout",
     "output_type": "stream",
     "text": [
      "NameError(\"name 'unknown' is not defined\")\n",
      "finally: This is always executed\n"
     ]
    }
   ],
   "source": [
    "try:\n",
    "    # print('unknown')\n",
    "    print(unknown)\n",
    "except Exception as e:\n",
    "    print(repr(e))\n",
    "else:\n",
    "    print('else: This is executed if no exception is raised')\n",
    "finally:\n",
    "    print('finally: This is always executed')"
   ]
  },
  {
   "cell_type": "markdown",
   "metadata": {},
   "source": [
    "### 06) Create a short program that prompts the user for a list of grades separated by commas. \n",
    "### Split the string into individual grades and use a list comprehension to convert each string to an integer. \n",
    "### You should use a try statement to inform the user when the values they entered cannot be converted."
   ]
  },
  {
   "cell_type": "code",
   "execution_count": 16,
   "metadata": {},
   "outputs": [
    {
     "name": "stdout",
     "output_type": "stream",
     "text": [
      "invalid literal for int() with base 10: 'abc'\n"
     ]
    }
   ],
   "source": [
    "try:\n",
    "    grades = input('Enter grades (comma seprated): ')\n",
    "    grades = grades.split(',')\n",
    "    grades = [int(grade) for grade in grades]\n",
    "except (ValueError,Exception) as e:\n",
    "    print('Invalid input Enter comma separated integers only')"
   ]
  },
  {
   "cell_type": "markdown",
   "metadata": {},
   "source": [
    "### 07) WAP to create an udf divide(a,b) that handles ZeroDivisionError."
   ]
  },
  {
   "cell_type": "code",
   "execution_count": 19,
   "metadata": {},
   "outputs": [
    {
     "name": "stdout",
     "output_type": "stream",
     "text": [
      "2.0\n"
     ]
    }
   ],
   "source": [
    "def divide(a,b):\n",
    "    try:\n",
    "        return a/b\n",
    "    except ZeroDivisionError as e:\n",
    "        print('Division by zero is not allowed')\n",
    "        b = int(input('Enter a non-zero number: '))\n",
    "        return divide(a,b)\n",
    "\n",
    "print(divide(int(input('Enter base')),int(input('Enter divisor'))))"
   ]
  },
  {
   "cell_type": "markdown",
   "metadata": {},
   "source": [
    "### 08) WAP that gets an age of a person form the user and raises ValueError with error message: \"Enter Valid Age\" :\n",
    "#### If the age is less than 18. \n",
    "#### otherwise print the age."
   ]
  },
  {
   "cell_type": "code",
   "execution_count": 22,
   "metadata": {},
   "outputs": [
    {
     "name": "stdout",
     "output_type": "stream",
     "text": [
      "Age: 20\n"
     ]
    }
   ],
   "source": [
    "try:\n",
    "    age = int(input('Enter age: '))\n",
    "    if age < 18:\n",
    "        raise ValueError('Enter age greater than 18')\n",
    "except ValueError as e:\n",
    "    print(e)\n",
    "else:\n",
    "    print('Age:',age)"
   ]
  },
  {
   "cell_type": "markdown",
   "metadata": {},
   "source": [
    "### 09) WAP to raise your custom Exception named InvalidUsernameError with the error message : \"Username must be between 5 and 15 characters long\":\n",
    "#### if the given name is having characters less than 5 or greater than 15.\n",
    "#### otherwise print the given username."
   ]
  },
  {
   "cell_type": "code",
   "execution_count": 30,
   "metadata": {},
   "outputs": [
    {
     "name": "stdout",
     "output_type": "stream",
     "text": [
      "Username: username\n"
     ]
    }
   ],
   "source": [
    "class InvalidUsernameError(Exception):\n",
    "    pass\n",
    "\n",
    "try:\n",
    "    username = input('Enter username: ')\n",
    "    if len(username) < 5 or len(username) > 15:\n",
    "        raise InvalidUsernameError\n",
    "except InvalidUsernameError:\n",
    "    print('Username must be between 5 and 15 characters long : Number of characters',len(username),'Username:',username)\n",
    "else:\n",
    "    print('Username:',username)"
   ]
  },
  {
   "cell_type": "markdown",
   "metadata": {},
   "source": [
    "### 10) WAP to raise your custom Exception named NegativeNumberError with the error message : \"Cannot calculate the square root of a negative number\" :\n",
    "#### if the given number is negative.\n",
    "#### otherwise print the square root of the given number."
   ]
  },
  {
   "cell_type": "code",
   "execution_count": 34,
   "metadata": {},
   "outputs": [
    {
     "name": "stdout",
     "output_type": "stream",
     "text": [
      "2.449489742783178\n"
     ]
    }
   ],
   "source": [
    "class NegativeNumberError(Exception):\n",
    "    def __init__(self, msg='Cannot calculate the square root of a negative number'):\n",
    "        super().__init__(msg)\n",
    "\n",
    "def square_root(num):\n",
    "    try:\n",
    "        if num < 0:\n",
    "            raise NegativeNumberError\n",
    "    except NegativeNumberError as e:\n",
    "        print(e)\n",
    "    else:\n",
    "        return num**0.5\n",
    "    \n",
    "print(square_root(int(input('Enter a number: '))))"
   ]
  }
 ],
 "metadata": {
  "kernelspec": {
   "display_name": "Python 3",
   "language": "python",
   "name": "python3"
  },
  "language_info": {
   "codemirror_mode": {
    "name": "ipython",
    "version": 3
   },
   "file_extension": ".py",
   "mimetype": "text/x-python",
   "name": "python",
   "nbconvert_exporter": "python",
   "pygments_lexer": "ipython3",
   "version": "3.13.0"
  }
 },
 "nbformat": 4,
 "nbformat_minor": 4
}
