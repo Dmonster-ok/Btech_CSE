{
 "cells": [
  {
   "cell_type": "markdown",
   "metadata": {},
   "source": [
    "<a href='https://www.darshan.ac.in/'> <img src='https://www.darshan.ac.in/Content/media/DU_Logo.svg' width=\"250\" height=\"300\"/></a>\n",
    "<pre>\n",
    "<center><b><h1>Python Programming - 2301CS404</b></center>\n",
    "<center><b><h1>Lab - 13</b></center>    \n",
    "<pre>"
   ]
  },
  {
   "cell_type": "markdown",
   "metadata": {},
   "source": [
    "# OOP"
   ]
  },
  {
   "cell_type": "markdown",
   "metadata": {},
   "source": [
    "### 01) Write a Program to create a class by name Students, and initialize attributes like name, age, and grade while creating an object."
   ]
  },
  {
   "cell_type": "code",
   "execution_count": 3,
   "metadata": {},
   "outputs": [
    {
     "name": "stdout",
     "output_type": "stream",
     "text": [
      "John 25 9.1\n"
     ]
    }
   ],
   "source": [
    "class Students:\n",
    "    def __init__(self, name, age, grade):\n",
    "        self.name = name\n",
    "        self.age = age\n",
    "        self.grade = grade\n",
    "\n",
    "Student = Students('John', 25, 9.1)\n",
    "print(Student.name, Student.age, Student.grade)"
   ]
  },
  {
   "cell_type": "markdown",
   "metadata": {},
   "source": [
    "### 02) Create a class named Bank_Account with Account_No, User_Name, Email,Account_Type and Account_Balance data members. Also create a method GetAccountDetails() and DisplayAccountDetails(). Create main method to demonstrate the Bank_Account class."
   ]
  },
  {
   "cell_type": "code",
   "execution_count": 4,
   "metadata": {},
   "outputs": [
    {
     "name": "stdout",
     "output_type": "stream",
     "text": [
      "Account No: 1001\n",
      "User Name: John\n",
      "Email: john@gamil.com\n",
      "Account Type: Savings\n",
      "Account Balance: 10000\n"
     ]
    }
   ],
   "source": [
    "class Bank_Account:\n",
    "    Account_No = None\n",
    "    User_Name = None\n",
    "    Email = None\n",
    "    Account_Type = None\n",
    "    Account_Balance = None\n",
    "    \n",
    "    def GetAccountDetails(self, Account_No, User_Name, Email, Account_Type, Account_Balance):\n",
    "        self.Account_No = Account_No\n",
    "        self.User_Name = User_Name\n",
    "        self.Email = Email\n",
    "        self.Account_Type = Account_Type\n",
    "        self.Account_Balance = Account_Balance\n",
    "    \n",
    "    def DisplayAccountDetails(self):\n",
    "        print('Account No:', self.Account_No)\n",
    "        print('User Name:', self.User_Name)\n",
    "        print('Email:', self.Email)\n",
    "        print('Account Type:', self.Account_Type)\n",
    "        print('Account Balance:', self.Account_Balance)\n",
    "\n",
    "account = Bank_Account()\n",
    "account.GetAccountDetails(1001, 'John','john@gamil.com', 'Savings', 10000)\n",
    "account.DisplayAccountDetails()"
   ]
  },
  {
   "cell_type": "markdown",
   "metadata": {},
   "source": [
    "### 03) WAP to create Circle class with area and perimeter function to find area and perimeter of circle."
   ]
  },
  {
   "cell_type": "code",
   "execution_count": 5,
   "metadata": {},
   "outputs": [
    {
     "name": "stdout",
     "output_type": "stream",
     "text": [
      "Area: 78.5\n",
      "Perimeter: 31.400000000000002\n"
     ]
    }
   ],
   "source": [
    "class Circle:\n",
    "    def __init__(self, radius):\n",
    "        self.radius = radius\n",
    "    \n",
    "    def Area(self):\n",
    "        return 3.14 * self.radius * self.radius\n",
    "    \n",
    "    def perimeter(self):\n",
    "        return 2 * 3.14 * self.radius\n",
    "    \n",
    "circle = Circle(5)\n",
    "print('Area:', circle.Area())\n",
    "print('Perimeter:', circle.perimeter())"
   ]
  },
  {
   "cell_type": "markdown",
   "metadata": {},
   "source": [
    "### 04) Create a class for employees that includes attributes such as name, age, salary, and methods to update and display employee information."
   ]
  },
  {
   "cell_type": "code",
   "execution_count": 6,
   "metadata": {},
   "outputs": [
    {
     "name": "stdout",
     "output_type": "stream",
     "text": [
      "Name: John\n",
      "Age: 25\n",
      "Salary: 10000\n",
      "Name: Smith\n",
      "Age: 25\n",
      "Salary: 10000\n"
     ]
    }
   ],
   "source": [
    "class Employee:\n",
    "    def __init__(self, name, age, salary):\n",
    "        self.name = name\n",
    "        self.age = age\n",
    "        self.salary = salary\n",
    "    \n",
    "    def updateEmployee(self, name = None, age = None, salary = None):\n",
    "        self.name =  self.name if name is None else name\n",
    "        self.age = self.age if age is None else age\n",
    "        self.salary = self.salary if salary is None else salary\n",
    "\n",
    "    def displayEmployee(self):\n",
    "        print('Name:', self.name)\n",
    "        print('Age:', self.age)\n",
    "        print('Salary:', self.salary)\n",
    "\n",
    "employee = Employee('John', 25, 10000)\n",
    "employee.displayEmployee()\n",
    "employee.updateEmployee('Smith')\n",
    "employee.displayEmployee()"
   ]
  },
  {
   "cell_type": "markdown",
   "metadata": {},
   "source": [
    "### 05) Create a bank account class with methods to deposit, withdraw, and check balance."
   ]
  },
  {
   "cell_type": "code",
   "execution_count": 7,
   "metadata": {},
   "outputs": [
    {
     "name": "stdout",
     "output_type": "stream",
     "text": [
      "Initial Balance:\n",
      "Account Balance: 10000\n",
      "Deposit 5000:\n",
      "Account Balance: 15000\n",
      "Withdraw 2000:\n",
      "Account Balance: 13000\n",
      "Withdraw 20000:\n",
      "Insufficient Balance\n"
     ]
    }
   ],
   "source": [
    "class Bank_Account:\n",
    "    Ammount = 0\n",
    "    def __init__(self, Ammount):\n",
    "        self.Ammount = Ammount\n",
    "    \n",
    "    def Deposit(self, Ammount):\n",
    "        self.Ammount += Ammount\n",
    "    \n",
    "    def Withdraw(self, Ammount):\n",
    "        if self.Ammount < Ammount:\n",
    "            print('Insufficient Balance')\n",
    "        else:\n",
    "            self.Ammount -= Ammount\n",
    "    \n",
    "    def DisplayBalance(self):\n",
    "        print('Account Balance:', self.Ammount)\n",
    "\n",
    "account = Bank_Account(10000)\n",
    "print('Initial Balance:')\n",
    "account.DisplayBalance()\n",
    "print('Deposit 5000:')\n",
    "account.Deposit(5000)\n",
    "account.DisplayBalance()\n",
    "print('Withdraw 2000:')\n",
    "account.Withdraw(2000)\n",
    "account.DisplayBalance()\n",
    "print('Withdraw 20000:')\n",
    "account.Withdraw(20000)"
   ]
  },
  {
   "cell_type": "markdown",
   "metadata": {},
   "source": [
    "### 06) Create a class for managing inventory that includes attributes such as item name, price, quantity, and methods to add, remove, and update items."
   ]
  },
  {
   "cell_type": "code",
   "execution_count": 8,
   "metadata": {},
   "outputs": [
    {
     "name": "stdout",
     "output_type": "stream",
     "text": [
      "ID 0\n",
      "Name: Laptop\n",
      "Price: 50000\n",
      "Quantity: 10\n",
      "ID 1\n",
      "Name: Mobile\n",
      "Price: 10000\n",
      "Quantity: 20\n",
      "ID 2\n",
      "Name: Tablet\n",
      "Price: 20000\n",
      "Quantity: 5\n",
      "Name: Mobile\n",
      "Price: 10000\n",
      "Quantity: 20\n",
      "Name: Smart Phone\n",
      "Price: 15000\n",
      "Quantity: 20\n",
      "ID 0\n",
      "Name: Laptop\n",
      "Price: 50000\n",
      "Quantity: 10\n",
      "ID 1\n",
      "Name: Smart Phone\n",
      "Price: 15000\n",
      "Quantity: 20\n"
     ]
    }
   ],
   "source": [
    "class Inventory:\n",
    "    Products = []\n",
    "    \n",
    "    def AddProduct(self, name, price, quantity):\n",
    "        self.Products.append({'name': name, 'price': price, 'quantity': quantity})\n",
    "\n",
    "    def DisplayProducts(self):\n",
    "        for product in self.Products:\n",
    "            print('ID', self.Products.index(product))\n",
    "            print('Name:', product['name'])\n",
    "            print('Price:', product['price'])\n",
    "            print('Quantity:', product['quantity'])\n",
    "\n",
    "    def DisplayProduct(self, id):\n",
    "        product = self.Products[id]\n",
    "        print('Name:', product['name'])\n",
    "        print('Price:', product['price'])\n",
    "        print('Quantity:', product['quantity'])\n",
    "    \n",
    "    def UpdateProduct(self,id, name = None, price = None, quantity = None):\n",
    "        product = self.Products[id]\n",
    "        product['name'] = product['name'] if name is None else name\n",
    "        product['price'] = product['price'] if price is None else price\n",
    "        product['quantity'] = product['quantity'] if quantity is None else quantity\n",
    "    \n",
    "    def DeleteProduct(self, id):\n",
    "        self.Products.pop(id)\n",
    "\n",
    "inventory = Inventory()\n",
    "inventory.AddProduct('Laptop', 50000, 10)\n",
    "inventory.AddProduct('Mobile', 10000, 20)\n",
    "inventory.AddProduct('Tablet', 20000, 5)\n",
    "inventory.DisplayProducts()\n",
    "inventory.DisplayProduct(1)\n",
    "inventory.UpdateProduct(1, 'Smart Phone', 15000)\n",
    "inventory.DisplayProduct(1)\n",
    "inventory.DeleteProduct(2)\n",
    "inventory.DisplayProducts()\n"
   ]
  },
  {
   "cell_type": "markdown",
   "metadata": {},
   "source": [
    "### 07) Create a Class with instance attributes of your choice."
   ]
  },
  {
   "cell_type": "code",
   "execution_count": 9,
   "metadata": {},
   "outputs": [
    {
     "name": "stdout",
     "output_type": "stream",
     "text": [
      "Class Variable\n",
      "Instance Variable\n"
     ]
    }
   ],
   "source": [
    "class A:\n",
    "    class_variable = 'Class Variable'\n",
    "    def __init__(self):\n",
    "        self.instance_variable = 'Instance Variable'\n",
    "    \n",
    "print(A.class_variable)\n",
    "a = A()\n",
    "print(a.instance_variable)"
   ]
  },
  {
   "cell_type": "markdown",
   "metadata": {},
   "source": [
    "### 08) Create one class student_kit\n",
    "#### Within the student_kit class create one class attribute principal name ( Mr ABC )\n",
    "#### Create one attendance method and take input as number of days.\n",
    "#### While creating student take input their name .\n",
    "#### Create one certificate for each student by taking input of number of days present in class."
   ]
  },
  {
   "cell_type": "code",
   "execution_count": 10,
   "metadata": {},
   "outputs": [
    {
     "name": "stdout",
     "output_type": "stream",
     "text": [
      "This is to certify that John has attended 10 days of the class. Principal: Mr ABC\n"
     ]
    }
   ],
   "source": [
    "class Student_kit:\n",
    "    principal_name = 'Mr ABC'\n",
    "\n",
    "    def __init__(self, name):\n",
    "        self.name = name\n",
    "        self.attendance = 0\n",
    "\n",
    "    def update_attendance(self, numOfDays):\n",
    "        self.attendance += numOfDays\n",
    "\n",
    "    def certificate(self):\n",
    "        print('This is to certify that', self.name, 'has attended', self.attendance, 'days of the class.', 'Principal:', self.principal_name)\n",
    "\n",
    "student1 = Student_kit('John')\n",
    "student1.update_attendance(10)\n",
    "student1.certificate()"
   ]
  },
  {
   "cell_type": "markdown",
   "metadata": {},
   "source": [
    "### 09) Define Time class with hour and minute as data member. Also define addition method to add two time objects."
   ]
  },
  {
   "cell_type": "code",
   "execution_count": 11,
   "metadata": {},
   "outputs": [
    {
     "name": "stdout",
     "output_type": "stream",
     "text": [
      "Time: 6 hours 15 minutes\n"
     ]
    }
   ],
   "source": [
    "class Time:\n",
    "    def __init__(self, hours, minutes):\n",
    "        self.hours = hours\n",
    "        self.minutes = minutes\n",
    "    \n",
    "    def addTimes(self, time1, time2):\n",
    "        self.hours = time1.hours + time2.hours\n",
    "        self.minutes = time1.minutes + time2.minutes\n",
    "        if self.minutes >= 60:\n",
    "            self.hours += 1\n",
    "            self.minutes -= 60\n",
    "\n",
    "    def displayTime(self):\n",
    "        print('Time:', self.hours, 'hours', self.minutes, 'minutes')\n",
    "\n",
    "time1 = Time(2, 30)\n",
    "time2 = Time(3, 45)\n",
    "time3 = Time(0, 0)\n",
    "time3.addTimes(time1, time2)\n",
    "time3.displayTime()"
   ]
  }
 ],
 "metadata": {
  "kernelspec": {
   "display_name": "Python 3",
   "language": "python",
   "name": "python3"
  },
  "language_info": {
   "codemirror_mode": {
    "name": "ipython",
    "version": 3
   },
   "file_extension": ".py",
   "mimetype": "text/x-python",
   "name": "python",
   "nbconvert_exporter": "python",
   "pygments_lexer": "ipython3",
   "version": "3.13.0"
  }
 },
 "nbformat": 4,
 "nbformat_minor": 4
}
