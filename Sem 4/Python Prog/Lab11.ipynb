{
 "cells": [
  {
   "attachments": {},
   "cell_type": "markdown",
   "metadata": {},
   "source": [
    "<a href='https://www.darshan.ac.in/'> <img src='https://www.darshan.ac.in/Content/media/DU_Logo.svg' width=\"250\" height=\"300\"/></a>\n",
    "<pre>\n",
    "<center><b><h1>Python Programming - 2301CS404</b></center>\n",
    "<center><b><h1>Lab - 11</b></center>    \n",
    "<center><b><h4>24010101675 Dhruv R. Pithwa</b></center>\n",
    "<pre>"
   ]
  },
  {
   "cell_type": "markdown",
   "metadata": {},
   "source": [
    "# Modules"
   ]
  },
  {
   "cell_type": "markdown",
   "metadata": {},
   "source": [
    "### 01) WAP to create Calculator module which defines functions like add, sub,mul and div. \n",
    "### Create another .py file that uses the functions available in Calculator module."
   ]
  },
  {
   "cell_type": "code",
   "execution_count": null,
   "metadata": {},
   "outputs": [
    {
     "name": "stdout",
     "output_type": "stream",
     "text": [
      "\n",
      "Module: Calculator\n",
      "This module provides a calculator with basic arithmetic operations.\n",
      "add(*args) - returns the sum of all arguments\n",
      "subtract(*args) - returns the difference of all arguments\n",
      "multiply(*args) - returns the product of all arguments\n",
      "divide(a, b) - returns the quotient of a and b\n",
      "\n",
      "--------------------------------------------------\n",
      "Add: 6\n",
      "Sub: -4\n",
      "Mul: 6\n",
      "Div: 0.50\n"
     ]
    }
   ],
   "source": [
    "from lab11 import Calculator \n",
    "\n",
    "print(Calculator.__doc__)\n",
    "print('-' * 50)\n",
    "\n",
    "print('Add:', Calculator.add(1, 2, 3))\n",
    "print('Sub:', Calculator.subtract(1, 2, 3))\n",
    "print('Mul:', Calculator.multiply(1, 2, 3))\n",
    "print(f'Div: {Calculator.divide(1, 2):.2f}')"
   ]
  },
  {
   "cell_type": "markdown",
   "metadata": {},
   "source": [
    "### 02) WAP to pick a random character from a given String."
   ]
  },
  {
   "cell_type": "code",
   "execution_count": 2,
   "metadata": {},
   "outputs": [
    {
     "name": "stdout",
     "output_type": "stream",
     "text": [
      "Random char: l\n"
     ]
    }
   ],
   "source": [
    "import random\n",
    "\n",
    "def random_char(string):\n",
    "    return random.choice(string)\n",
    "\n",
    "print('Random char:', random_char('Hellow World'))"
   ]
  },
  {
   "cell_type": "markdown",
   "metadata": {},
   "source": [
    "### 03) WAP to pick a random element from a given list."
   ]
  },
  {
   "cell_type": "code",
   "execution_count": 3,
   "metadata": {},
   "outputs": [
    {
     "name": "stdout",
     "output_type": "stream",
     "text": [
      "Random element: 1\n"
     ]
    }
   ],
   "source": [
    "def random_element(iterable):\n",
    "    return random.choice(iterable)\n",
    "\n",
    "print('Random element:', random_element([1,2,3,4,5]))"
   ]
  },
  {
   "cell_type": "markdown",
   "metadata": {},
   "source": [
    "### 04) WAP to roll a dice in such a way that every time you get the same number."
   ]
  },
  {
   "cell_type": "code",
   "execution_count": 4,
   "metadata": {},
   "outputs": [
    {
     "name": "stdout",
     "output_type": "stream",
     "text": [
      "Rolling dice: 2\n"
     ]
    }
   ],
   "source": [
    "def roll_dice():\n",
    "    random.seed(1)\n",
    "    return random.randint(1, 6)\n",
    "\n",
    "print('Rolling dice:', roll_dice())"
   ]
  },
  {
   "cell_type": "markdown",
   "metadata": {},
   "source": [
    "### 05) WAP to generate 3 random integers between 100 and 999 which is divisible by 5."
   ]
  },
  {
   "cell_type": "code",
   "execution_count": 5,
   "metadata": {},
   "outputs": [
    {
     "name": "stdout",
     "output_type": "stream",
     "text": [
      "3 Random between 100 and 999 / 5: (825, 180, 425)\n"
     ]
    }
   ],
   "source": [
    "def random_num():\n",
    "    return tuple(random.choice(range(100, 1000, 5)) for _ in range(3))\n",
    "\n",
    "print('3 Random between 100 and 999 / 5:', random_num())"
   ]
  },
  {
   "cell_type": "markdown",
   "metadata": {},
   "source": [
    "### 06) WAP to generate 100 random lottery tickets and pick two lucky tickets from it and announce them as Winner and Runner up respectively."
   ]
  },
  {
   "cell_type": "code",
   "execution_count": 6,
   "metadata": {},
   "outputs": [
    {
     "name": "stdout",
     "output_type": "stream",
     "text": [
      "Winner: 167831\n",
      "Runner-up: 137214\n"
     ]
    }
   ],
   "source": [
    "def lottery():\n",
    "    ticket = [random.choice(range(10*5000, 50*5000)) for _ in range(100)]\n",
    "    winner,runnerup = random.sample(ticket, 2)\n",
    "    print('Winner:', winner)\n",
    "    print('Runner-up:', runnerup)\n",
    "\n",
    "lottery()"
   ]
  },
  {
   "cell_type": "markdown",
   "metadata": {},
   "source": [
    "### 07) WAP to print current date and time in Python."
   ]
  },
  {
   "cell_type": "code",
   "execution_count": 7,
   "metadata": {},
   "outputs": [
    {
     "name": "stdout",
     "output_type": "stream",
     "text": [
      "Current date: 26-02-2025\n"
     ]
    }
   ],
   "source": [
    "import datetime\n",
    "\n",
    "print('Current date:', datetime.datetime.now().strftime('%d-%m-%Y'))"
   ]
  },
  {
   "cell_type": "markdown",
   "metadata": {},
   "source": [
    "### 08) Subtract a week (7 days) from a given date in Python."
   ]
  },
  {
   "cell_type": "code",
   "execution_count": 8,
   "metadata": {},
   "outputs": [
    {
     "name": "stdout",
     "output_type": "stream",
     "text": [
      "Subtract week: 19-02-2025\n"
     ]
    }
   ],
   "source": [
    "def subtract_week(date):\n",
    "    return date - datetime.timedelta(weeks=1)\n",
    "\n",
    "print('Subtract week:', subtract_week(datetime.datetime.now()).strftime('%d-%m-%Y'))\n"
   ]
  },
  {
   "cell_type": "markdown",
   "metadata": {},
   "source": [
    "### 09) WAP to Calculate number of days between two given dates."
   ]
  },
  {
   "cell_type": "code",
   "execution_count": 9,
   "metadata": {},
   "outputs": [
    {
     "name": "stdout",
     "output_type": "stream",
     "text": [
      "Date difference: 2192 days\n"
     ]
    }
   ],
   "source": [
    "print('Date difference:', (datetime.datetime(2025, 1, 1) - datetime.datetime(2019, 1, 1)).days, 'days')"
   ]
  },
  {
   "cell_type": "markdown",
   "metadata": {},
   "source": [
    "### 10) WAP to Find the day of the week of a given date.(i.e. wether it is sunday/monday/tuesday/etc.)"
   ]
  },
  {
   "cell_type": "code",
   "execution_count": 10,
   "metadata": {},
   "outputs": [
    {
     "name": "stdout",
     "output_type": "stream",
     "text": [
      "26 Wednesday, Feb-2025\n"
     ]
    }
   ],
   "source": [
    "print(datetime.datetime.now().strftime('%d %A, %b-%Y'))"
   ]
  },
  {
   "cell_type": "markdown",
   "metadata": {},
   "source": [
    "### 11) WAP to demonstrate the use of date time module."
   ]
  },
  {
   "cell_type": "code",
   "execution_count": 11,
   "metadata": {},
   "outputs": [
    {
     "name": "stdout",
     "output_type": "stream",
     "text": [
      "2025-01-15\n",
      "10:30:15\n",
      "2025-01-15 10:30:15\n"
     ]
    }
   ],
   "source": [
    "print(datetime.date(day=15, month=1, year=2025))\n",
    "print(datetime.time(hour=10, minute=30, second=15))\n",
    "print(datetime.datetime(year=2025, month=1, day=15, hour=10, minute=30, second=15))\n"
   ]
  },
  {
   "cell_type": "markdown",
   "metadata": {},
   "source": [
    "### 12) WAP to demonstrate the use of the math module."
   ]
  },
  {
   "cell_type": "code",
   "execution_count": 12,
   "metadata": {},
   "outputs": [
    {
     "name": "stdout",
     "output_type": "stream",
     "text": [
      "Pi: 3.14\n",
      "e: 2.72\n",
      "Mod: 1.0\n",
      "Factorial: 120\n",
      "GCD: 5\n",
      "Exp: 1.0\n",
      "pow: 1024.0\n",
      "sqrt: 5.0\n"
     ]
    }
   ],
   "source": [
    "import math\n",
    "\n",
    "print(f'Pi: {math.pi:.2f}')\n",
    "print(f'e: {math.e:.2f}')\n",
    "print('Mod:', math.remainder(10, 3))\n",
    "print('Factorial:', math.factorial(5))\n",
    "print('GCD:', math.gcd(10, 15))\n",
    "print('Exp:', math.exp(0))\n",
    "print('pow:', math.pow(2, 10))\n",
    "print('sqrt:', math.sqrt(25))"
   ]
  }
 ],
 "metadata": {
  "kernelspec": {
   "display_name": "Python 3",
   "language": "python",
   "name": "python3"
  },
  "language_info": {
   "codemirror_mode": {
    "name": "ipython",
    "version": 3
   },
   "file_extension": ".py",
   "mimetype": "text/x-python",
   "name": "python",
   "nbconvert_exporter": "python",
   "pygments_lexer": "ipython3",
   "version": "3.13.0"
  }
 },
 "nbformat": 4,
 "nbformat_minor": 4
}
