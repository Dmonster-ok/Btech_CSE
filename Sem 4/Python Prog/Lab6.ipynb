{
 "cells": [
  {
   "attachments": {},
   "cell_type": "markdown",
   "metadata": {},
   "source": [
    "<a href='https://www.darshan.ac.in/'> <img src='https://www.darshan.ac.in/Content/media/DU_Logo.svg' width=\"250\" height=\"300\"/></a>\n",
    "<pre>\n",
    "<center><b><h1>Python Programming - 2301CS404</b></center>\n",
    "<center><b><h1>Lab - 6</b></center>    \n",
    "<pre>"
   ]
  },
  {
   "cell_type": "markdown",
   "metadata": {},
   "source": [
    "# Tuple"
   ]
  },
  {
   "cell_type": "markdown",
   "metadata": {},
   "source": [
    "### 01) WAP to find sum of tuple elements."
   ]
  },
  {
   "cell_type": "code",
   "execution_count": 2,
   "metadata": {},
   "outputs": [
    {
     "name": "stdout",
     "output_type": "stream",
     "text": [
      "10\n"
     ]
    }
   ],
   "source": [
    "tp = (1,2,3,4)\n",
    "\n",
    "def sum_tuple(tp):\n",
    "    return sum(tp)\n",
    "\n",
    "print(sum_tuple(tp))\n"
   ]
  },
  {
   "cell_type": "markdown",
   "metadata": {},
   "source": [
    "### 02) WAP to find Maximum and Minimum K elements in a given tuple."
   ]
  },
  {
   "cell_type": "code",
   "execution_count": 28,
   "metadata": {},
   "outputs": [
    {
     "name": "stdout",
     "output_type": "stream",
     "text": [
      "(1, 2, 3, 8, 9, 10)\n",
      "(2, 1, 4, 3, 5, 6, 7, 8, 9, 10)\n"
     ]
    }
   ],
   "source": [
    "tp = (2,1,4,3,5,6,7,8,9,10)\n",
    "\n",
    "def k_min_max(tp, k):\n",
    "    tp = list(tp)\n",
    "    tp.sort()\n",
    "    tp = tuple(tp)\n",
    "    return tp[:k] + tp[-k:]\n",
    "\n",
    "print(k_min_max(tp, 3))"
   ]
  },
  {
   "cell_type": "markdown",
   "metadata": {},
   "source": [
    "### 03) WAP to find tuples which have all elements divisible by K from a list of tuples."
   ]
  },
  {
   "cell_type": "code",
   "execution_count": 32,
   "metadata": {},
   "outputs": [
    {
     "name": "stdout",
     "output_type": "stream",
     "text": [
      "(2, 4, 6, 8, 10)\n"
     ]
    }
   ],
   "source": [
    "def divisible_byK(tp, k):\n",
    "    return tuple(filter(lambda x: x % k == 0, tp))\n",
    "\n",
    "print(divisible_byK(tp, 2))"
   ]
  },
  {
   "cell_type": "markdown",
   "metadata": {},
   "source": [
    "### 04) WAP to create a list of tuples from given list having number and its cube in each tuple."
   ]
  },
  {
   "cell_type": "code",
   "execution_count": 54,
   "metadata": {},
   "outputs": [
    {
     "name": "stdout",
     "output_type": "stream",
     "text": [
      "[(1, 1), (2, 8), (3, 27), (4, 64), (5, 125)]\n"
     ]
    }
   ],
   "source": [
    "ls = [1,2,3,4,5]\n",
    "\n",
    "def cube(ls):\n",
    "    return list((i,i ** 3) for i in ls)\n",
    "\n",
    "print(cube(ls))"
   ]
  },
  {
   "cell_type": "markdown",
   "metadata": {},
   "source": [
    "### 05) WAP to find tuples with all positive elements from the given list of tuples."
   ]
  },
  {
   "cell_type": "code",
   "execution_count": 41,
   "metadata": {},
   "outputs": [
    {
     "name": "stdout",
     "output_type": "stream",
     "text": [
      "[(4, 5, 6), (10, 11, 12)]\n"
     ]
    }
   ],
   "source": [
    "ls = [(1,-2,3), (4,5,6), (-7,8,9), (10,11,12)]\n",
    "\n",
    "def find_positive_tuple(ls):\n",
    "    return list(filter(lambda x: all(map(lambda y: y > 0, x)), ls))\n",
    "\n",
    "print(find_positive_tuple(ls))"
   ]
  },
  {
   "cell_type": "markdown",
   "metadata": {},
   "source": [
    "### 06) WAP to add tuple to list and vice – versa."
   ]
  },
  {
   "cell_type": "code",
   "execution_count": 59,
   "metadata": {},
   "outputs": [
    {
     "name": "stdout",
     "output_type": "stream",
     "text": [
      "((1, 2, 3, 4), [3, 4, 1, 2])\n"
     ]
    }
   ],
   "source": [
    "tp = (1,2)\n",
    "ls = [3,4]\n",
    "\n",
    "def add_elements(tp, ls):\n",
    "    a = tp + tuple(ls)\n",
    "    b = ls + list(tp)\n",
    "    return a, b\n",
    "\n",
    "print(add_elements(tp, ls))\n"
   ]
  },
  {
   "cell_type": "markdown",
   "metadata": {},
   "source": [
    "### 07) WAP to remove tuples of length K."
   ]
  },
  {
   "cell_type": "code",
   "execution_count": 64,
   "metadata": {},
   "outputs": [
    {
     "name": "stdout",
     "output_type": "stream",
     "text": [
      "[(3, 4, 5), (6, 7, 8, 9), (10, 11, 12, 13, 14)]\n"
     ]
    }
   ],
   "source": [
    "ls = [(1,2),(3,4,5),(6,7,8,9),(10,11,12,13,14)]\n",
    "\n",
    "def remove_Klength(ls, k):\n",
    "    return list(filter(lambda x: len(x) != k, ls))\n",
    "\n",
    "print(remove_Klength(ls, 2))"
   ]
  },
  {
   "cell_type": "markdown",
   "metadata": {},
   "source": [
    "### 08) WAP to remove duplicates from tuple."
   ]
  },
  {
   "cell_type": "code",
   "execution_count": 65,
   "metadata": {},
   "outputs": [
    {
     "name": "stdout",
     "output_type": "stream",
     "text": [
      "(1, 2, 3, 4, 5)\n"
     ]
    }
   ],
   "source": [
    "tp = (1,1,2,2,3,3,4,4,5,5)\n",
    "\n",
    "def remove_duplicates(tp):\n",
    "    return tuple(set(tp))\n",
    "\n",
    "print(remove_duplicates(tp))"
   ]
  },
  {
   "cell_type": "markdown",
   "metadata": {},
   "source": [
    "### 09) WAP to multiply adjacent elements of a tuple and print that resultant tuple."
   ]
  },
  {
   "cell_type": "code",
   "execution_count": 67,
   "metadata": {},
   "outputs": [
    {
     "name": "stdout",
     "output_type": "stream",
     "text": [
      "(2, 6, 12, 20, 30)\n"
     ]
    }
   ],
   "source": [
    "tp = (1,2,3,4,5,6)\n",
    "\n",
    "def multiply_adjacent(tp):\n",
    "    return tuple(tp[i] * tp[i+1] for i in range(len(tp)-1))\n",
    "\n",
    "print(multiply_adjacent(tp))"
   ]
  },
  {
   "cell_type": "markdown",
   "metadata": {},
   "source": [
    "### 10) WAP to test if the given tuple is distinct or not."
   ]
  },
  {
   "cell_type": "code",
   "execution_count": 72,
   "metadata": {},
   "outputs": [
    {
     "name": "stdout",
     "output_type": "stream",
     "text": [
      "True\n"
     ]
    }
   ],
   "source": [
    "tp = (1,1,2,2,3,3,4,4,5,5)\n",
    "tp2 = (1,2,3,4,5,6)\n",
    "\n",
    "def distiinct_tuple(tup):\n",
    "    tmp = tuple(set(tup))\n",
    "    return True if len(tmp) == len(tup) else False\n",
    "\n",
    "print(distiinct_tuple(tp2))"
   ]
  }
 ],
 "metadata": {
  "kernelspec": {
   "display_name": "Python 3",
   "language": "python",
   "name": "python3"
  },
  "language_info": {
   "codemirror_mode": {
    "name": "ipython",
    "version": 3
   },
   "file_extension": ".py",
   "mimetype": "text/x-python",
   "name": "python",
   "nbconvert_exporter": "python",
   "pygments_lexer": "ipython3",
   "version": "3.13.0"
  }
 },
 "nbformat": 4,
 "nbformat_minor": 4
}
