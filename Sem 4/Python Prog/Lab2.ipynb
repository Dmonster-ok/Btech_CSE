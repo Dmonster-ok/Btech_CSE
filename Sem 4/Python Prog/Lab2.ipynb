{
 "cells": [
  {
   "cell_type": "markdown",
   "metadata": {},
   "source": [
    "### 02) WAP to check whether the given number is odd or even."
   ]
  },
  {
   "cell_type": "code",
   "execution_count": 5,
   "metadata": {},
   "outputs": [
    {
     "name": "stdout",
     "output_type": "stream",
     "text": [
      "Odd\n"
     ]
    }
   ],
   "source": [
    "print('Even' if int(input('Enter a num: ')) % 2 == 0 else 'Odd' )"
   ]
  },
  {
   "cell_type": "markdown",
   "metadata": {},
   "source": [
    "### 03) WAP to find out largest number from given two numbers using simple if and ternary operator."
   ]
  },
  {
   "cell_type": "code",
   "execution_count": null,
   "metadata": {},
   "outputs": [
    {
     "name": "stdout",
     "output_type": "stream",
     "text": [
      "6\n"
     ]
    }
   ],
   "source": [
    "a = int(input('Enter a num: '))\n",
    "b = int(input('Enter a num: '))\n",
    "\n",
    "# if (a > b):\n",
    "#     print(a)\n",
    "# else:\n",
    "#     print(b)\n",
    "print(a if a > b else b)"
   ]
  },
  {
   "cell_type": "markdown",
   "metadata": {},
   "source": [
    "### 04) WAP to find out largest number from given three numbers."
   ]
  },
  {
   "cell_type": "code",
   "execution_count": null,
   "metadata": {},
   "outputs": [
    {
     "name": "stdout",
     "output_type": "stream",
     "text": [
      "11\n"
     ]
    }
   ],
   "source": [
    "a = int(input(\"Enter a num\"))\n",
    "b = int(input(\"Enter a num\"))\n",
    "c = int(input(\"Enter a num\"))\n",
    "\n",
    "print(a if a > b and a > c else b if b > c else c)"
   ]
  },
  {
   "cell_type": "markdown",
   "metadata": {},
   "source": [
    "### 05) WAP to check whether the given year is leap year or not.\n",
    "[If a year can be divisible by 4 but not divisible by 100 then it is leap year but if it is divisible by 400 then it is leap year]"
   ]
  },
  {
   "cell_type": "code",
   "execution_count": null,
   "metadata": {},
   "outputs": [
    {
     "name": "stdout",
     "output_type": "stream",
     "text": [
      "2000  is leap year\n"
     ]
    }
   ],
   "source": [
    "year = int(input('Enter a year'))\n",
    "\n",
    "print(year, 'is' if year % 4 == 0 and year % 100 != 0 or year % 400 == 0 else 'is not','leap year' )"
   ]
  },
  {
   "cell_type": "markdown",
   "metadata": {},
   "source": [
    "### 06) WAP in python to display the name of the day according to the number given by the user."
   ]
  },
  {
   "cell_type": "code",
   "execution_count": null,
   "metadata": {},
   "outputs": [
    {
     "name": "stdout",
     "output_type": "stream",
     "text": [
      "Invalid\n"
     ]
    }
   ],
   "source": [
    "day = int(input('Enter a day'))\n",
    "\n",
    "match(day):\n",
    "    case 0: val = 'Sun'\n",
    "    case 1: val = 'Mon'\n",
    "    case 2: val = 'Tue'\n",
    "    case 3: val = 'Wen'\n",
    "    case 4: val = 'Thu'\n",
    "    case 5: val = 'Fri'\n",
    "    case 6: val = 'Sat'\n",
    "    case _: val = 'Invalid Input'\n",
    "\n",
    "print(val)"
   ]
  },
  {
   "cell_type": "markdown",
   "metadata": {},
   "source": [
    "### 07) WAP to implement simple calculator which performs (add,sub,mul,div) of two no. based on user input."
   ]
  },
  {
   "cell_type": "code",
   "execution_count": 1,
   "metadata": {},
   "outputs": [
    {
     "name": "stdout",
     "output_type": "stream",
     "text": [
      "30.0\n"
     ]
    }
   ],
   "source": [
    "a = float(input('Enter a num'))\n",
    "b = float(input('Enter a num'))\n",
    "\n",
    "match(input('Enter opration')):\n",
    "    case '+': ans = a + b\n",
    "    case '-': ans = a - b\n",
    "    case '*': ans = a * b\n",
    "    case '/': ans = f\"{(a/b):10.2f}\" \n",
    "    case _  : ans = 'Invalid opration'\n",
    "\n",
    "print(ans)"
   ]
  },
  {
   "cell_type": "markdown",
   "metadata": {},
   "source": [
    "### 08) WAP to read marks of five subjects. Calculate percentage and print class accordingly. \n",
    "Fail below 35 </br>\n",
    "Pass Class between 35 to 45 </br>\n",
    "Second Class</br>\n",
    "between 45 to 60</br>\n",
    "First Class between 60 to 70</br> \n",
    "Distinction if more than 70"
   ]
  },
  {
   "cell_type": "code",
   "execution_count": 29,
   "metadata": {},
   "outputs": [
    {
     "name": "stdout",
     "output_type": "stream",
     "text": [
      "Total Marks: Distinction\n"
     ]
    }
   ],
   "source": [
    "def getClass(n):\n",
    "    if n < 35:\n",
    "        return 'Fail'\n",
    "\n",
    "    elif n < 45:\n",
    "        return 'Pass'\n",
    "    elif n < 60:\n",
    "        return 'Second Class'\n",
    "    elif n < 70:\n",
    "        return 'First Class'\n",
    "    else:\n",
    "        return 'Distinction'\n",
    "    \n",
    "t = int(input('Enter Total Marks per subject: '))\n",
    "\n",
    "sum = 0\n",
    "while True:\n",
    "    n = int(input('Enter marks (0 to exit): '))\n",
    "\n",
    "    if n == 0:\n",
    "        print('Total Marks:', getClass(sum/t*100))\n",
    "        break\n",
    "\n",
    "    sum += n\n"
   ]
  },
  {
   "cell_type": "markdown",
   "metadata": {},
   "source": [
    "### 09) Three sides of a triangle are entered through the keyboard, WAP to check whether the triangle is isosceles, equilateral, scalene or right-angled triangle."
   ]
  },
  {
   "cell_type": "code",
   "execution_count": null,
   "metadata": {},
   "outputs": [
    {
     "name": "stdout",
     "output_type": "stream",
     "text": [
      "[2, 4, 6]\n"
     ]
    }
   ],
   "source": [
    "l = [int(input('Enter a num: ')) for i in range(3)]\n",
    "l.sort()\n",
    "print('Isosceles' if l[0] == l[1] or l[1] == l[2] or l[0] == l[2] else 'equilateral' if l[0] == l[1] == l[2] else 'Scalene')\n",
    "print('Right Angled' if l[0]**2 + l[1]**2 == l[2]**2 else exit())"
   ]
  },
  {
   "cell_type": "markdown",
   "metadata": {},
   "source": [
    "### 10) WAP to find the second largest number among three user input numbers."
   ]
  },
  {
   "cell_type": "code",
   "execution_count": 4,
   "metadata": {},
   "outputs": [
    {
     "name": "stdout",
     "output_type": "stream",
     "text": [
      "Largest: 20\n"
     ]
    }
   ],
   "source": [
    "a = int(input('Enter a num: '))\n",
    "b = int(input('Enter a num: '))\n",
    "c = int(input('Enter a num: '))\n",
    "\n",
    "print('Largest:', a if a > b and a > c else b if b > c else c)"
   ]
  },
  {
   "cell_type": "markdown",
   "metadata": {},
   "source": [
    "### 11) WAP to calculate electricity bill based on following criteria. Which takes the unit from the user.\n",
    "a. First 1 to 50 units – Rs. 2.60/unit</br>\n",
    "b. Next 50 to 100 units – Rs. 3.25/unit</br>\n",
    "c. Next 100 to 200 units – Rs. 5.26/unit</br>\n",
    "d. above 200 units – Rs. 8.45/unit"
   ]
  },
  {
   "cell_type": "code",
   "execution_count": 5,
   "metadata": {},
   "outputs": [
    {
     "name": "stdout",
     "output_type": "stream",
     "text": [
      "Bill: 130.0\n"
     ]
    }
   ],
   "source": [
    "units = int(input('Enter Units: '))\n",
    "\n",
    "if units <= 50:\n",
    "    bill = units * 2.60\n",
    "elif units <= 100:\n",
    "    bill = (50 * 2.60) + ((units - 50) * 3.25)\n",
    "elif units <= 200:\n",
    "    bill = (50 * 2.60) + (50 * 3.25) + ((units - 100) * 5.26)\n",
    "else:\n",
    "    bill = (50 * 2.60) + (50 * 3.25) + (100 * 5.26) + ((units - 200) * 8.45)\n",
    "\n",
    "print('Bill:', bill)\n",
    "\n"
   ]
  }
 ],
 "metadata": {
  "kernelspec": {
   "display_name": "Python 3",
   "language": "python",
   "name": "python3"
  },
  "language_info": {
   "codemirror_mode": {
    "name": "ipython",
    "version": 3
   },
   "file_extension": ".py",
   "mimetype": "text/x-python",
   "name": "python",
   "nbconvert_exporter": "python",
   "pygments_lexer": "ipython3",
   "version": "3.13.0"
  }
 },
 "nbformat": 4,
 "nbformat_minor": 4
}
