{
 "cells": [
  {
   "cell_type": "markdown",
   "metadata": {},
   "source": [
    "<a href='https://www.darshan.ac.in/'> <img src='https://www.darshan.ac.in/Content/media/DU_Logo.svg' width=\"250\" height=\"300\"/></a>\n",
    "<pre>\n",
    "<center><b><h1>Python Programming - 2301CS404</b></center>\n",
    "<center><b><h1>Lab - 8</b></center>    \n",
    "<pre>"
   ]
  },
  {
   "cell_type": "markdown",
   "metadata": {},
   "source": [
    "# User Defined Function"
   ]
  },
  {
   "cell_type": "markdown",
   "metadata": {},
   "source": [
    "### 01) Write a function to calculate BMI given mass and height. (BMI = mass/h**2)"
   ]
  },
  {
   "cell_type": "code",
   "execution_count": 2,
   "metadata": {},
   "outputs": [
    {
     "name": "stdout",
     "output_type": "stream",
     "text": [
      "Your BMI is:  19.0\n"
     ]
    }
   ],
   "source": [
    "def bmi(wight, height):\n",
    "    return wight // (height ** 2)\n",
    "\n",
    "print(\"Your BMI is: \", bmi(52, 1.65))\n",
    "\n"
   ]
  },
  {
   "cell_type": "markdown",
   "metadata": {},
   "source": [
    "### 02) Write a function that add first n numbers."
   ]
  },
  {
   "cell_type": "code",
   "execution_count": 5,
   "metadata": {},
   "outputs": [
    {
     "name": "stdout",
     "output_type": "stream",
     "text": [
      "The sum of the first 10 numbers is:  15\n"
     ]
    }
   ],
   "source": [
    "def sum_n(n):\n",
    "    return sum(range(1, n+1))\n",
    "\n",
    "print(\"The sum of the first 10 numbers is: \", sum_n(5))"
   ]
  },
  {
   "cell_type": "markdown",
   "metadata": {},
   "source": [
    "### 03) Write a function that returns 1 if the given number is Prime or 0 otherwise."
   ]
  },
  {
   "cell_type": "code",
   "execution_count": 10,
   "metadata": {},
   "outputs": [
    {
     "name": "stdout",
     "output_type": "stream",
     "text": [
      "1\n"
     ]
    }
   ],
   "source": [
    "def is_prime(n):\n",
    "    for i in range(2, n//2+1):\n",
    "        if n % i == 0:\n",
    "            return 0\n",
    "    return 1\n",
    "\n",
    "print(is_prime(83))"
   ]
  },
  {
   "cell_type": "markdown",
   "metadata": {},
   "source": [
    "### 04) Write a function that returns the list of Prime numbers between given two numbers."
   ]
  },
  {
   "cell_type": "code",
   "execution_count": 12,
   "metadata": {},
   "outputs": [
    {
     "name": "stdout",
     "output_type": "stream",
     "text": [
      "[1, 2, 3, 5, 7, 11, 13, 17, 19, 23, 29, 31, 37, 41, 43, 47, 53, 59, 61, 67, 71, 73, 79, 83, 89, 97]\n"
     ]
    }
   ],
   "source": [
    "def list_primes(n,m):\n",
    "    return [x for x in range(n, m+1) if is_prime(x)]\n",
    "\n",
    "print(list_primes(1, 100))"
   ]
  },
  {
   "cell_type": "markdown",
   "metadata": {},
   "source": [
    "### 05) Write a function that returns True if the given string is Palindrome or False otherwise."
   ]
  },
  {
   "cell_type": "code",
   "execution_count": 13,
   "metadata": {},
   "outputs": [
    {
     "name": "stdout",
     "output_type": "stream",
     "text": [
      "True\n",
      "False\n"
     ]
    }
   ],
   "source": [
    "def is_palindrome(s):\n",
    "    return s == s[::-1]\n",
    "\n",
    "print(is_palindrome(\"racecar\"))\n",
    "print(is_palindrome(\"hello\"))"
   ]
  },
  {
   "cell_type": "markdown",
   "metadata": {},
   "source": [
    "### 06) Write a function that returns the sum of all the elements of the list."
   ]
  },
  {
   "cell_type": "code",
   "execution_count": 15,
   "metadata": {},
   "outputs": [
    {
     "name": "stdout",
     "output_type": "stream",
     "text": [
      "15\n"
     ]
    }
   ],
   "source": [
    "def sum_of_list(lst):\n",
    "    sum = 0\n",
    "    for i in lst: sum += i\n",
    "    return sum\n",
    "\n",
    "print(sum_of_list([1, 2, 3, 4, 5]))"
   ]
  },
  {
   "cell_type": "markdown",
   "metadata": {},
   "source": [
    "### 07) Write a function to calculate the sum of the first element of each tuples inside the list."
   ]
  },
  {
   "cell_type": "code",
   "execution_count": 16,
   "metadata": {},
   "outputs": [
    {
     "name": "stdout",
     "output_type": "stream",
     "text": [
      "9\n"
     ]
    }
   ],
   "source": [
    "lst_tup = [(1, 2), (3, 4), (5, 6)]\n",
    "\n",
    "def sum_of_tuple(lst):\n",
    "    sum = 0\n",
    "    for i in lst:\n",
    "        sum += i[0]\n",
    "    return sum\n",
    "\n",
    "print(sum_of_tuple(lst_tup))"
   ]
  },
  {
   "cell_type": "markdown",
   "metadata": {},
   "source": [
    "### 08) Write a recursive function to find nth term of Fibonacci Series."
   ]
  },
  {
   "cell_type": "code",
   "execution_count": 20,
   "metadata": {},
   "outputs": [
    {
     "name": "stdout",
     "output_type": "stream",
     "text": [
      "0\n"
     ]
    }
   ],
   "source": [
    "def fibo_recursion(n):\n",
    "    if n <= 1:\n",
    "        return n\n",
    "    else:\n",
    "        return fibo_recursion(n-1) + fibo_recursion(n-2)\n",
    "    \n",
    "print(fibo_recursion(5))"
   ]
  },
  {
   "cell_type": "markdown",
   "metadata": {},
   "source": [
    "### 09) Write a function to get the name of the student based on the given rollno.\n",
    "#### Example: Given dict1 = {101:'Ajay', 102:'Rahul', 103:'Jay', 104:'Pooja'} find name of student whose rollno = 103"
   ]
  },
  {
   "cell_type": "code",
   "execution_count": 21,
   "metadata": {},
   "outputs": [
    {
     "name": "stdout",
     "output_type": "stream",
     "text": [
      "Ajay\n"
     ]
    }
   ],
   "source": [
    "stutents = {101: \"Ajay\", 102: \"Rahul\", 103: \"Sonam\", 104: \"Raj\"}\n",
    "\n",
    "def find_student(id):\n",
    "    if id in stutents:\n",
    "        return stutents[id]\n",
    "    else:\n",
    "        return \"Student not found\"\n",
    "    \n",
    "print(find_student(101))"
   ]
  },
  {
   "cell_type": "markdown",
   "metadata": {},
   "source": [
    "### 10) Write a function to get the sum of the scores ending with zero.\n",
    "#### Example : scores = [200, 456, 300, 100, 234, 678] \n",
    "#### Ans = 200 + 300 + 100 = 600"
   ]
  },
  {
   "cell_type": "code",
   "execution_count": 22,
   "metadata": {},
   "outputs": [
    {
     "name": "stdout",
     "output_type": "stream",
     "text": [
      "700\n"
     ]
    }
   ],
   "source": [
    "score = [100,200,434,654,234,400]\n",
    "\n",
    "def sum_of_tens_zeros(lst):\n",
    "    sum = 0\n",
    "    for i in lst:\n",
    "        if i % 10 == 0:\n",
    "            sum += i\n",
    "    return sum\n",
    "\n",
    "print(sum_of_tens_zeros(score))"
   ]
  },
  {
   "cell_type": "markdown",
   "metadata": {},
   "source": [
    "### 11) Write a function to invert a given Dictionary.\n",
    "#### hint: keys to values & values to keys\n",
    "#### Before : {'a': 10, 'b':20, 'c':30, 'd':40}\n",
    "#### After : {10:'a', 20:'b', 30:'c', 40:'d'}"
   ]
  },
  {
   "cell_type": "code",
   "execution_count": 23,
   "metadata": {},
   "outputs": [
    {
     "name": "stdout",
     "output_type": "stream",
     "text": [
      "{100: 'a', 200: 'b', 300: 'c'}\n"
     ]
    }
   ],
   "source": [
    "dict1 = {'a': 100, 'b': 200, 'c': 300}\n",
    "\n",
    "def invert_dict(d):\n",
    "    return {v: k for k, v in d.items()}\n",
    "\n",
    "print(invert_dict(dict1))"
   ]
  },
  {
   "cell_type": "markdown",
   "metadata": {},
   "source": [
    "### 12) Write a function to check whether the given string is Pangram or not.\n",
    "#### hint: Pangram is a string containing all the characters a-z atlest once.\n",
    "#### \"the quick brown fox jumps over the lazy dog\" is a Pangram string."
   ]
  },
  {
   "cell_type": "code",
   "execution_count": 27,
   "metadata": {},
   "outputs": [
    {
     "name": "stdout",
     "output_type": "stream",
     "text": [
      "False\n"
     ]
    }
   ],
   "source": [
    "def is_pangram(s):\n",
    "    return len(set(s)) == 26\n",
    "\n",
    "print(is_pangram(\"The quick brown fox jumps over the lazy dog\"))"
   ]
  },
  {
   "cell_type": "markdown",
   "metadata": {},
   "source": [
    "### 13) Write a function that returns the number of uppercase and lowercase letters in the given string. \n",
    "#### example : Input : s1 = AbcDEfgh ,Ouptput : no_upper = 3, no_lower = 5"
   ]
  },
  {
   "cell_type": "code",
   "execution_count": 29,
   "metadata": {},
   "outputs": [
    {
     "name": "stdout",
     "output_type": "stream",
     "text": [
      "(9, 26)\n"
     ]
    }
   ],
   "source": [
    "sentence = \"The Quick Brown Fox Jumps Over The Lazy Dog\"\n",
    "\n",
    "def count_upper_lower(s):\n",
    "    upper = 0\n",
    "    lower = 0\n",
    "    for i in s:\n",
    "        if i.isupper():\n",
    "            upper += 1\n",
    "        elif i.islower():\n",
    "            lower += 1\n",
    "    return upper, lower\n",
    "\n",
    "print(count_upper_lower(sentence))"
   ]
  },
  {
   "cell_type": "markdown",
   "metadata": {},
   "source": [
    "### 14) Write a lambda function to get smallest number from the given two numbers."
   ]
  },
  {
   "cell_type": "code",
   "execution_count": 30,
   "metadata": {},
   "outputs": [
    {
     "name": "stdout",
     "output_type": "stream",
     "text": [
      "10\n"
     ]
    }
   ],
   "source": [
    "minNum = lambda x, y: x if x < y else y\n",
    "\n",
    "print(minNum(10, 20))"
   ]
  },
  {
   "cell_type": "markdown",
   "metadata": {},
   "source": [
    "### 15) For the given list of names of students, extract the names having more that 7 characters. Use filter()."
   ]
  },
  {
   "cell_type": "code",
   "execution_count": 32,
   "metadata": {},
   "outputs": [
    {
     "data": {
      "text/plain": [
       "['Raghunath', 'Chandrika', 'Suryakant']"
      ]
     },
     "execution_count": 32,
     "metadata": {},
     "output_type": "execute_result"
    }
   ],
   "source": [
    "stutents = ['Ajay', 'Rahul', 'Raghunath', 'Chandrika','Suryakant']\n",
    "list(filter(lambda name: len(name) > 7, stutents))\n"
   ]
  },
  {
   "cell_type": "markdown",
   "metadata": {},
   "source": [
    "### 16) For the given list of names of students, convert the first letter of all the names into uppercase. use map()."
   ]
  },
  {
   "cell_type": "code",
   "execution_count": 34,
   "metadata": {},
   "outputs": [
    {
     "data": {
      "text/plain": [
       "['Ajay', 'Rahul', 'Raghunath', 'Chandrika', 'Suryakant']"
      ]
     },
     "execution_count": 34,
     "metadata": {},
     "output_type": "execute_result"
    }
   ],
   "source": [
    "list(map(lambda name: name.title(), ['ajay', 'rahul', 'raghunath', 'chandrika','suryakant']))"
   ]
  },
  {
   "cell_type": "markdown",
   "metadata": {},
   "source": [
    "### 17) Write udfs to call the functions with following types of arguments:\n",
    "1. Positional Arguments\n",
    "2. Keyword Arguments\n",
    "3. Default Arguments\n",
    "4. Variable Legngth Positional(*args) & variable length Keyword Arguments (**kwargs)\n",
    "5. Keyword-Only & Positional Only Arguments"
   ]
  },
  {
   "cell_type": "code",
   "execution_count": 7,
   "metadata": {},
   "outputs": [
    {
     "name": "stdout",
     "output_type": "stream",
     "text": [
      "positional_args 10, 20: (sum) 30\n",
      "\n",
      "keyword_args a=10,b=20: (mul) 200\n",
      "\n",
      "default_args 10 default 5 : (sub) 5\n",
      "default_args 10, 20 : (sub) -10\n",
      "\n",
      "var_args 10, 20, 30, 40, 50: (sum) 150\n",
      "\n",
      "var_kwargs a=10, b=20, c=30, d=40, e=50: (dict) {'a': 10, 'b': 20, 'c': 30, 'd': 40, 'e': 50}\n",
      "\n",
      "pow_positonal_kwargs 5, b=2, c=3, d=4, e=5: (dict) {'b': 32, 'c': 243, 'd': 1024, 'e': 3125}\n"
     ]
    }
   ],
   "source": [
    "# 1. Positional Arguments\n",
    "def positional_args(a, b):\n",
    "    return a + b\n",
    "\n",
    "print('positional_args 10, 20: (sum)',positional_args(10, 20))\n",
    "\n",
    "# 2. Keyword Arguments\n",
    "def keyword_args(a, b):\n",
    "    return a * b\n",
    "\n",
    "print('\\nkeyword_args a=10,b=20: (mul)',keyword_args(a=10, b=20))\n",
    "\n",
    "# 3. Default Arguments\n",
    "def default_args(a, b=5):\n",
    "    return a - b\n",
    "\n",
    "print('\\ndefault_args 10 default 5 : (sub)',default_args(10))\n",
    "print('default_args 10, 20 : (sub)',default_args(10, 20))\n",
    "\n",
    "# 4. Variable Length Positional Arguments\n",
    "def var_args(*args):\n",
    "    return sum(args)\n",
    "\n",
    "print('\\nvar_args 10, 20, 30, 40, 50: (sum)',var_args(10, 20, 30, 40, 50))\n",
    "\n",
    "\n",
    "# 4. Variable Length Keyword Arguments\n",
    "def var_kwargs(**kwargs):\n",
    "    return kwargs\n",
    "\n",
    "print('\\nvar_kwargs a=10, b=20, c=30, d=40, e=50: (dict)',var_kwargs(a=10, b=20, c=30, d=40, e=50))\n",
    "\n",
    "# 5. Keyword Arguments and Positional Arguments\n",
    "def pow_positonal_kwargs(a, **kwargs):\n",
    "    return {k: v**a for k, v in kwargs.items()}\n",
    "\n",
    "print('\\npow_positonal_kwargs 5, b=2, c=3, d=4, e=5: (dict)',pow_positonal_kwargs(5, b=2, c=3, d=4, e=5))"
   ]
  }
 ],
 "metadata": {
  "kernelspec": {
   "display_name": "Python 3",
   "language": "python",
   "name": "python3"
  },
  "language_info": {
   "codemirror_mode": {
    "name": "ipython",
    "version": 3
   },
   "file_extension": ".py",
   "mimetype": "text/x-python",
   "name": "python",
   "nbconvert_exporter": "python",
   "pygments_lexer": "ipython3",
   "version": "3.13.0"
  }
 },
 "nbformat": 4,
 "nbformat_minor": 4
}
