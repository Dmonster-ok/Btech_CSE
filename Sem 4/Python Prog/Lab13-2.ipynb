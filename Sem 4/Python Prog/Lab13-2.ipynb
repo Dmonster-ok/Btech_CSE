{
 "cells": [
  {
   "cell_type": "markdown",
   "metadata": {},
   "source": [
    "<a href='https://www.darshan.ac.in/'> <img src='https://www.darshan.ac.in/Content/media/DU_Logo.svg' width=\"250\" height=\"300\"/></a>\n",
    "<pre>\n",
    "<center><b><h1>Python Programming - 2301CS404</b></center>\n",
    "<center><b><h1>Lab - 13</b></center>    \n",
    "<center><b><h4>24010101675 Dhruv R. Pithwa</b></center>\n",
    "<pre>"
   ]
  },
  {
   "cell_type": "markdown",
   "metadata": {},
   "source": [
    "## Continued.."
   ]
  },
  {
   "cell_type": "markdown",
   "metadata": {},
   "source": [
    "### 10) Calculate area of a ractangle using object as an argument to a method."
   ]
  },
  {
   "cell_type": "code",
   "execution_count": null,
   "metadata": {},
   "outputs": [
    {
     "name": "stdout",
     "output_type": "stream",
     "text": [
      "The area of the rectangle is: 50\n"
     ]
    }
   ],
   "source": [
    "class Rectangle:\n",
    "    def __init__(self, length, breadth):\n",
    "        self.length = length\n",
    "        self.breadth = breadth\n",
    "\n",
    "    def calculate_area(self, rect_obj):\n",
    "        return rect_obj.length * rect_obj.breadth\n",
    "\n",
    "\n",
    "rect1 = Rectangle(10, 5)\n",
    "area = rect1.calculate_area(rect1)\n",
    "\n",
    "print(f\"The area of the rectangle is: {area}\")"
   ]
  },
  {
   "cell_type": "markdown",
   "metadata": {},
   "source": [
    "### 11) Calculate the area of a square. \n",
    "### Include a Constructor, a method to calculate area named area() and a method named output() that prints the output and is invoked by area()."
   ]
  },
  {
   "cell_type": "code",
   "execution_count": 6,
   "metadata": {},
   "outputs": [
    {
     "name": "stdout",
     "output_type": "stream",
     "text": [
      "Area : 25\n"
     ]
    }
   ],
   "source": [
    "class Square:\n",
    "    def __init__(self, side):\n",
    "        self.side = side\n",
    "\n",
    "    def area(self):\n",
    "        self.output(self.side ** 2)\n",
    "\n",
    "    def output(self,ptr):\n",
    "        print('Area :',ptr)\n",
    "\n",
    "square = Square(5)\n",
    "square.area()"
   ]
  },
  {
   "cell_type": "markdown",
   "metadata": {},
   "source": [
    "### 12) Calculate the area of a rectangle. \n",
    "### Include a Constructor, a method to calculate area named area() and a method named output() that prints the output and is invoked by area().\n",
    "### Also define a class method that compares the two sides of reactangle. An object is instantiated only if the two sides are different; otherwise a message should be displayed : THIS IS SQUARE."
   ]
  },
  {
   "cell_type": "code",
   "execution_count": 17,
   "metadata": {},
   "outputs": [
    {
     "name": "stdout",
     "output_type": "stream",
     "text": [
      "THIS IS A SQUARE\n",
      "Area: 50\n"
     ]
    }
   ],
   "source": [
    "# Improved Rectangle with Factory Method\n",
    "class Rectangle:\n",
    "    def __init__(self, length, breadth):\n",
    "        self.length = length\n",
    "        self.breadth = breadth\n",
    "\n",
    "    def area(self):\n",
    "        print('Area:', self.length * self.breadth)\n",
    "\n",
    "    @classmethod\n",
    "    def create_rectangle(cls, length, breadth):\n",
    "        if length == breadth:\n",
    "            print(\"THIS IS A SQUARE\")\n",
    "            return None\n",
    "        return cls(length, breadth)\n",
    "\n",
    "rec1 = Rectangle.create_rectangle(5, 5)  # This will print \"THIS IS A SQUARE\"\n",
    "rec2 = Rectangle.create_rectangle(5, 10) \n",
    "\n",
    "if rec2:\n",
    "    rec2.area()\n"
   ]
  },
  {
   "cell_type": "markdown",
   "metadata": {},
   "source": [
    "### 13) Define a class Square having a private attribute \"side\". \n",
    "### Implement get_side and set_side methods to accees the private attribute from outside of the class."
   ]
  },
  {
   "cell_type": "code",
   "execution_count": null,
   "metadata": {},
   "outputs": [
    {
     "name": "stdout",
     "output_type": "stream",
     "text": [
      "5\n",
      "10\n",
      "10\n"
     ]
    }
   ],
   "source": [
    "class Square:\n",
    "    def __init__(self, side):\n",
    "        self.__side = side\n",
    "\n",
    "    def get_side(self):\n",
    "        return self.__side\n",
    "\n",
    "    def set_side(self, new_side):\n",
    "        self.__side = new_side\n",
    "\n",
    "sqr = Square(5)\n",
    "print(sqr.get_side())\n",
    "sqr.set_side(10)\n",
    "print(sqr.get_side())\n",
    "sqr.__side = 20\n",
    "print(sqr.get_side())"
   ]
  },
  {
   "cell_type": "markdown",
   "metadata": {},
   "source": [
    "### 14) Create a class Profit that has a method named getProfit that accepts profit from the user.\n",
    "### Create a class Loss that has a method named getLoss that accepts loss from the user.\n",
    "### Create a class BalanceSheet that inherits from both classes Profit and Loss and calculates the balanace. It has two methods getBalance() and printBalance()."
   ]
  },
  {
   "cell_type": "code",
   "execution_count": 25,
   "metadata": {},
   "outputs": [
    {
     "name": "stdout",
     "output_type": "stream",
     "text": [
      "Net Balance: 3000\n"
     ]
    }
   ],
   "source": [
    "class Profit:\n",
    "    def getProfit(self, profit):\n",
    "        self.profit = profit\n",
    "\n",
    "class Loss:\n",
    "    def getLoss(self, loss):\n",
    "        self.loss = loss\n",
    "\n",
    "class BalanceSheet(Profit, Loss):\n",
    "    def getBalance(self):\n",
    "        self.balance = self.profit - self.loss\n",
    "\n",
    "    def printBalance(self):\n",
    "        print(\"Net Balance:\", self.balance)\n",
    "\n",
    "bs = BalanceSheet()\n",
    "bs.getProfit(5000)\n",
    "bs.getLoss(2000)\n",
    "bs.getBalance()\n",
    "bs.printBalance()\n"
   ]
  },
  {
   "attachments": {},
   "cell_type": "markdown",
   "metadata": {},
   "source": [
    "### 15) WAP to demonstrate all types of inheritance."
   ]
  },
  {
   "cell_type": "code",
   "execution_count": 28,
   "metadata": {},
   "outputs": [
    {
     "name": "stdout",
     "output_type": "stream",
     "text": [
      "This is a Parent class.\n",
      "This is a Child class.\n"
     ]
    }
   ],
   "source": [
    "# Single Inheritance\n",
    "class Parent:\n",
    "    def show(self):\n",
    "        print(\"This is a Parent class.\")\n",
    "\n",
    "class Child(Parent):\n",
    "    def display(self):\n",
    "        print(\"This is a Child class.\")\n",
    "\n",
    "obj1 = Child()\n",
    "obj1.show()\n",
    "obj1.display()"
   ]
  },
  {
   "cell_type": "code",
   "execution_count": 32,
   "metadata": {},
   "outputs": [
    {
     "name": "stdout",
     "output_type": "stream",
     "text": [
      "Class A method.\n",
      "Class B method.\n",
      "Class C method.\n"
     ]
    }
   ],
   "source": [
    "# Multiple Inheritance\n",
    "class A:\n",
    "    def methodA(self):\n",
    "        print(\"Class A method.\")\n",
    "\n",
    "class B:\n",
    "    def methodB(self):\n",
    "        print(\"Class B method.\")\n",
    "\n",
    "class C(A, B):\n",
    "    def methodC(self):\n",
    "        print(\"Class C method.\")\n",
    "\n",
    "obj2 = C()\n",
    "obj2.methodA()\n",
    "obj2.methodB()\n",
    "obj2.methodC()"
   ]
  },
  {
   "cell_type": "code",
   "execution_count": 35,
   "metadata": {},
   "outputs": [
    {
     "name": "stdout",
     "output_type": "stream",
     "text": [
      "Hello from Grandparent.\n",
      "Hello from Parent.\n",
      "Hello from Child.\n"
     ]
    }
   ],
   "source": [
    "# Multilevel Inheritance\n",
    "class Grandparent:\n",
    "    def greet(self):\n",
    "        print(\"Hello from Grandparent.\")\n",
    "\n",
    "class Parent(Grandparent):\n",
    "    def greet_parent(self):\n",
    "        print(\"Hello from Parent.\")\n",
    "\n",
    "class Child(Parent):\n",
    "    def greet_child(self):\n",
    "        print(\"Hello from Child.\")\n",
    "\n",
    "obj3 = Child()\n",
    "obj3.greet()\n",
    "obj3.greet_parent()\n",
    "obj3.greet_child()"
   ]
  },
  {
   "cell_type": "code",
   "execution_count": 37,
   "metadata": {},
   "outputs": [
    {
     "name": "stdout",
     "output_type": "stream",
     "text": [
      "I am a human.\n",
      "I am studying.\n",
      "I am a human.\n",
      "I am teaching.\n"
     ]
    }
   ],
   "source": [
    "# Hierarchical Inheritance\n",
    "class Person:\n",
    "    def introduce(self):\n",
    "        print(\"I am a human.\")\n",
    "\n",
    "class Student(Person):\n",
    "    def study(self):\n",
    "        print(\"I am studying.\")\n",
    "\n",
    "class Teacher(Person):\n",
    "    def teach(self):\n",
    "        print(\"I am teaching.\")\n",
    "\n",
    "student = Student()\n",
    "teacher = Teacher()\n",
    "student.introduce()\n",
    "student.study()\n",
    "teacher.introduce()\n",
    "teacher.teach()"
   ]
  },
  {
   "cell_type": "code",
   "execution_count": 39,
   "metadata": {},
   "outputs": [
    {
     "name": "stdout",
     "output_type": "stream",
     "text": [
      "Class X method.\n",
      "Class Y method.\n",
      "Class Z method.\n",
      "Hybrid class method.\n"
     ]
    }
   ],
   "source": [
    "# Hybrid Inheritance\n",
    "class X:\n",
    "    def methodX(self):\n",
    "        print(\"Class X method.\")\n",
    "\n",
    "class Y(X):\n",
    "    def methodY(self):\n",
    "        print(\"Class Y method.\")\n",
    "\n",
    "class Z:\n",
    "    def methodZ(self):\n",
    "        print(\"Class Z method.\")\n",
    "\n",
    "class Hybrid(Y, Z):\n",
    "    def methodHybrid(self):\n",
    "        print(\"Hybrid class method.\")\n",
    "\n",
    "obj4 = Hybrid()\n",
    "obj4.methodX()\n",
    "obj4.methodY()\n",
    "obj4.methodZ()\n",
    "obj4.methodHybrid()\n"
   ]
  },
  {
   "cell_type": "markdown",
   "metadata": {},
   "source": [
    "### 16) Create a Person class with a constructor that takes two arguments name and age. \n",
    "### Create a child class Employee that inherits from Person and adds a new attribute salary. \n",
    "### Override the __init__ method in Employee to call the parent class's __init__ method using the super() and then initialize the salary attribute."
   ]
  },
  {
   "cell_type": "code",
   "execution_count": 40,
   "metadata": {},
   "outputs": [
    {
     "name": "stdout",
     "output_type": "stream",
     "text": [
      "Name: Alice, Age: 30, Salary: 60000\n"
     ]
    }
   ],
   "source": [
    "class Person:\n",
    "    def __init__(self, name, age):\n",
    "        self.name = name\n",
    "        self.age = age\n",
    "\n",
    "class Employee(Person):\n",
    "    def __init__(self, name, age, salary):\n",
    "        super().__init__(name, age)\n",
    "        self.salary = salary\n",
    "\n",
    "    def display(self):\n",
    "        print(f\"Name: {self.name}, Age: {self.age}, Salary: {self.salary}\")\n",
    "\n",
    "emp = Employee(\"Alice\", 30, 60000)\n",
    "emp.display()\n"
   ]
  },
  {
   "cell_type": "markdown",
   "metadata": {},
   "source": [
    "### 17) Create a Shape class with a draw method that is not implemented. \n",
    "### Create three child classes Rectangle, Circle, and Triangle that implement the draw method with their respective drawing behaviors. \n",
    "### Create a list of Shape objects that includes one instance of each child class, and then iterate through the list and call the draw method on each object."
   ]
  },
  {
   "cell_type": "code",
   "execution_count": null,
   "metadata": {},
   "outputs": [
    {
     "name": "stdout",
     "output_type": "stream",
     "text": [
      "Drawing a Rectangle.\n",
      "Drawing a Circle.\n",
      "Drawing a Triangle.\n"
     ]
    }
   ],
   "source": [
    "class Shape:\n",
    "    def draw(self):\n",
    "        pass \n",
    "\n",
    "class Rectangle(Shape):\n",
    "    def draw(self):\n",
    "        print(\"Drawing a Rectangle.\")\n",
    "\n",
    "class Circle(Shape):\n",
    "    def draw(self):\n",
    "        print(\"Drawing a Circle.\")\n",
    "\n",
    "class Triangle(Shape):\n",
    "    def draw(self):\n",
    "        print(\"Drawing a Triangle.\")\n",
    "\n",
    "shapes = [Rectangle(), Circle(), Triangle()]\n",
    "for shape in shapes:\n",
    "    shape.draw()"
   ]
  }
 ],
 "metadata": {
  "kernelspec": {
   "display_name": "Python 3",
   "language": "python",
   "name": "python3"
  },
  "language_info": {
   "codemirror_mode": {
    "name": "ipython",
    "version": 3
   },
   "file_extension": ".py",
   "mimetype": "text/x-python",
   "name": "python",
   "nbconvert_exporter": "python",
   "pygments_lexer": "ipython3",
   "version": "3.13.0"
  }
 },
 "nbformat": 4,
 "nbformat_minor": 4
}
