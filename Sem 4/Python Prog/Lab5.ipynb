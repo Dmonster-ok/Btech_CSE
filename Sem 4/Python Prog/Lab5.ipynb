{
 "cells": [
  {
   "cell_type": "markdown",
   "metadata": {},
   "source": [
    "\n",
    "<a href='https://www.darshan.ac.in/'> <img src='https://www.darshan.ac.in/Content/media/DU_Logo.svg' width=\"250\" height=\"300\"/></a>\n",
    "<pre>\n",
    "<center><b><h1>Python Programming - 2301CS404</b></center>\n",
    "<center><b><h1>Lab - 5</b></center>    \n",
    "<pre>"
   ]
  },
  {
   "cell_type": "markdown",
   "metadata": {},
   "source": [
    "# List"
   ]
  },
  {
   "cell_type": "markdown",
   "metadata": {},
   "source": [
    "### 01) WAP to find sum of all the elements in a List."
   ]
  },
  {
   "cell_type": "code",
   "execution_count": 21,
   "metadata": {},
   "outputs": [
    {
     "name": "stdout",
     "output_type": "stream",
     "text": [
      "55\n"
     ]
    }
   ],
   "source": [
    "ls = [1,2,3,4,5,6,7,8,9,10]\n",
    "\n",
    "def udf_sum(ls):\n",
    "    sum = 0\n",
    "    for i in ls: sum += i\n",
    "    return sum\n",
    "\n",
    "# print(sum(ls))\n",
    "print(udf_sum(ls))\n"
   ]
  },
  {
   "cell_type": "markdown",
   "metadata": {},
   "source": [
    "### 02) WAP to find largest element in a List."
   ]
  },
  {
   "cell_type": "code",
   "execution_count": 7,
   "metadata": {},
   "outputs": [
    {
     "name": "stdout",
     "output_type": "stream",
     "text": [
      "10\n"
     ]
    }
   ],
   "source": [
    "# print(max(ls))\n",
    "\n",
    "def udf_max(ls):\n",
    "    max = 0\n",
    "    for i in ls: \n",
    "        if max < i: max = i\n",
    "    return max\n",
    "\n",
    "print(udf_max(ls))\n",
    "\n"
   ]
  },
  {
   "cell_type": "markdown",
   "metadata": {},
   "source": [
    "### 03) WAP to find the length of a List."
   ]
  },
  {
   "cell_type": "code",
   "execution_count": 8,
   "metadata": {},
   "outputs": [
    {
     "name": "stdout",
     "output_type": "stream",
     "text": [
      "10\n"
     ]
    }
   ],
   "source": [
    "print(len(ls))"
   ]
  },
  {
   "cell_type": "markdown",
   "metadata": {},
   "source": [
    "### 04) WAP to interchange first and last elements in a list."
   ]
  },
  {
   "cell_type": "code",
   "execution_count": 9,
   "metadata": {},
   "outputs": [
    {
     "name": "stdout",
     "output_type": "stream",
     "text": [
      "[10, 2, 3, 4, 5, 6, 7, 8, 9, 1]\n"
     ]
    }
   ],
   "source": [
    "tmp = ls[0]\n",
    "ls[0] = ls[len(ls)-1]\n",
    "ls[len(ls)-1] = tmp\n",
    "\n",
    "print(ls)"
   ]
  },
  {
   "cell_type": "markdown",
   "metadata": {},
   "source": [
    "### 05) WAP to split the List into two parts and append the first part to the end."
   ]
  },
  {
   "cell_type": "code",
   "execution_count": 14,
   "metadata": {},
   "outputs": [
    {
     "name": "stdout",
     "output_type": "stream",
     "text": [
      "[6, 7, 8, 9, 10, 1, 2, 3, 4, 5]\n"
     ]
    }
   ],
   "source": [
    "p1 = ls[:len(ls)//2]\n",
    "p2 = ls[len(ls)//2:]\n",
    "ls = p2 + p1\n",
    "print(ls)"
   ]
  },
  {
   "cell_type": "markdown",
   "metadata": {},
   "source": [
    "### 06) WAP to interchange the elements on two positions entered by a user."
   ]
  },
  {
   "cell_type": "code",
   "execution_count": 15,
   "metadata": {},
   "outputs": [
    {
     "name": "stdout",
     "output_type": "stream",
     "text": [
      "[6, 7, 1, 9, 10, 8, 2, 3, 4, 5]\n"
     ]
    }
   ],
   "source": [
    "def udf_changeElementPos(m,n,ls):\n",
    "    tmp = ls[m]\n",
    "    ls[m] = ls[n]\n",
    "    ls[n] = tmp\n",
    "    return ls\n",
    "\n",
    "print(udf_changeElementPos(int(input('Enter from(index)')),int(input('Enter to(index)')),ls))\n"
   ]
  },
  {
   "cell_type": "markdown",
   "metadata": {},
   "source": [
    "### 07) WAP to reverse the list entered by user."
   ]
  },
  {
   "cell_type": "code",
   "execution_count": 20,
   "metadata": {},
   "outputs": [
    {
     "name": "stdout",
     "output_type": "stream",
     "text": [
      "[5, 4, 3, 2, 1]\n"
     ]
    }
   ],
   "source": [
    "ls = []\n",
    "while(True):\n",
    "    val = input('Enter nums (q to quite)')\n",
    "    if val == 'q':\n",
    "        break\n",
    "    else:\n",
    "        ls.append(int(val))\n",
    "\n",
    "ls.reverse()\n",
    "\n",
    "print(ls)"
   ]
  },
  {
   "cell_type": "markdown",
   "metadata": {},
   "source": [
    "### 08) WAP to print even numbers in a list."
   ]
  },
  {
   "cell_type": "code",
   "execution_count": 22,
   "metadata": {},
   "outputs": [
    {
     "name": "stdout",
     "output_type": "stream",
     "text": [
      "2 4 6 8 10 "
     ]
    }
   ],
   "source": [
    "for i in ls:\n",
    "    if i%2 == 0:\n",
    "        print(i,end=' ')"
   ]
  },
  {
   "cell_type": "markdown",
   "metadata": {},
   "source": [
    "### 09) WAP to count unique items in a list."
   ]
  },
  {
   "cell_type": "code",
   "execution_count": 39,
   "metadata": {},
   "outputs": [
    {
     "name": "stdout",
     "output_type": "stream",
     "text": [
      "5\n"
     ]
    }
   ],
   "source": [
    "ls = [11,22,11,22,33,44,44,55]\n",
    "\n",
    "def findUnique(ls):\n",
    "    unique = []\n",
    "    for i in ls:\n",
    "        if i in ls and i not in unique:\n",
    "            unique.append(i)\n",
    "    return len(unique)\n",
    "\n",
    "print(findUnique(ls))\n"
   ]
  },
  {
   "cell_type": "markdown",
   "metadata": {},
   "source": [
    "### 10) WAP to copy a list."
   ]
  },
  {
   "cell_type": "code",
   "execution_count": null,
   "metadata": {},
   "outputs": [],
   "source": [
    "ls2 = ls.copy()\n",
    "\n",
    "print(ls2)"
   ]
  },
  {
   "cell_type": "markdown",
   "metadata": {},
   "source": [
    "### 11) WAP to print all odd numbers in a given range."
   ]
  },
  {
   "cell_type": "code",
   "execution_count": 40,
   "metadata": {},
   "outputs": [
    {
     "name": "stdout",
     "output_type": "stream",
     "text": [
      "[1, 3, 5, 7, 9]\n"
     ]
    }
   ],
   "source": [
    "ls = [i for i in range(int(input('Enter from(idex): ')),int(input('Enter to(index): '))) if i%2 != 0]\n",
    "print(ls)"
   ]
  },
  {
   "cell_type": "markdown",
   "metadata": {},
   "source": [
    "### 12) WAP to count occurrences of an element in a list."
   ]
  },
  {
   "cell_type": "code",
   "execution_count": 67,
   "metadata": {},
   "outputs": [
    {
     "name": "stdout",
     "output_type": "stream",
     "text": [
      "{11: 3, 22: 2, 33: 1, 44: 2, 55: 1}\n"
     ]
    }
   ],
   "source": [
    "ls = [11,22,11,22,33,44,44,55,11]\n",
    "\n",
    "def udf_findOccurrence(ls):\n",
    "    result = {}\n",
    "    for i in ls:\n",
    "        if i not in result:\n",
    "            result[i] = 1\n",
    "        else:\n",
    "            result[i] += 1\n",
    "\n",
    "    return result\n",
    "\n",
    "print(udf_findOccurrence(ls))\n"
   ]
  },
  {
   "cell_type": "markdown",
   "metadata": {},
   "source": [
    "### 13) WAP to find second largest number in a list."
   ]
  },
  {
   "cell_type": "code",
   "execution_count": 57,
   "metadata": {},
   "outputs": [
    {
     "name": "stdout",
     "output_type": "stream",
     "text": [
      "8\n"
     ]
    }
   ],
   "source": [
    "ls = [1,2,3,4,5,6,7,8,9]\n",
    "\n",
    "def udf_findSecondMax(ls):\n",
    "    ls.remove(max(ls))\n",
    "    return max(ls)\n",
    "\n",
    "print(udf_findSecondMax(ls))"
   ]
  },
  {
   "cell_type": "markdown",
   "metadata": {},
   "source": [
    "### 14) WAP to extract elements with frequency greater than K."
   ]
  },
  {
   "cell_type": "code",
   "execution_count": 85,
   "metadata": {},
   "outputs": [
    {
     "name": "stdout",
     "output_type": "stream",
     "text": [
      "{11: 3, 22: 3}\n",
      "[11, 22]\n"
     ]
    }
   ],
   "source": [
    "ls = [11,22,11,22,33,44,44,55,11,22]\n",
    "\n",
    "def udf_findGreaterthanK(ls,k):\n",
    "    tmp = udf_findOccurrence(ls)\n",
    "    result = {}\n",
    "    for i in tmp:\n",
    "        if tmp[i] > k:\n",
    "            result[i] = tmp[i]\n",
    "    return result\n",
    "\n",
    "print(udf_findGreaterthanK(ls,2))\n",
    "\n",
    "def udf_findGreaterthanKCount(ls,k):\n",
    "    result = set()\n",
    "    for i in ls:\n",
    "        if ls.count(i) > k:\n",
    "            result.add(i)\n",
    "    return list(result)\n",
    "\n",
    "print(udf_findGreaterthanKCount(ls,2))"
   ]
  },
  {
   "cell_type": "markdown",
   "metadata": {},
   "source": [
    "### 15) WAP to create a list of squared numbers from 0 to 9 with and without using List Comprehension."
   ]
  },
  {
   "cell_type": "code",
   "execution_count": 73,
   "metadata": {},
   "outputs": [
    {
     "name": "stdout",
     "output_type": "stream",
     "text": [
      "[0, 1, 4, 9, 16, 25, 36, 49, 64, 81]\n"
     ]
    }
   ],
   "source": [
    "ls = []\n",
    "for i in range(10):\n",
    "    ls.append(i**2)\n",
    "\n",
    "print(ls)"
   ]
  },
  {
   "cell_type": "markdown",
   "metadata": {},
   "source": [
    "### 16) WAP to create a new list (fruit whose name starts with 'b') from the list of fruits given by user."
   ]
  },
  {
   "cell_type": "code",
   "execution_count": 87,
   "metadata": {},
   "outputs": [
    {
     "name": "stdout",
     "output_type": "stream",
     "text": [
      "['banana', 'brownie']\n"
     ]
    }
   ],
   "source": [
    "ls = []\n",
    "while(True):\n",
    "    val = input('Enter nums (q to quite)')\n",
    "    if val == 'q':\n",
    "        break\n",
    "    else:\n",
    "        if val.startswith('b'):\n",
    "            ls.append(val)\n",
    "\n",
    "print(ls)\n"
   ]
  },
  {
   "cell_type": "markdown",
   "metadata": {},
   "source": [
    "### 17) WAP to create a list of common elements from given two lists."
   ]
  },
  {
   "cell_type": "code",
   "execution_count": 2,
   "metadata": {},
   "outputs": [
    {
     "name": "stdout",
     "output_type": "stream",
     "text": [
      "[4, 5]\n"
     ]
    }
   ],
   "source": [
    "ls = [1,2,3,4,5]\n",
    "ls2 = [4,5,6,7,8]\n",
    "\n",
    "def udf_findCommon(ls,ls2):\n",
    "    # result = []\n",
    "    # for i in ls:\n",
    "    #     if i in ls2:\n",
    "    #         result.append(i)\n",
    "    return [i for i in ls if i in ls2]\n",
    "\n",
    "print(udf_findCommon(ls,ls2))"
   ]
  }
 ],
 "metadata": {
  "kernelspec": {
   "display_name": "Python 3",
   "language": "python",
   "name": "python3"
  },
  "language_info": {
   "codemirror_mode": {
    "name": "ipython",
    "version": 3
   },
   "file_extension": ".py",
   "mimetype": "text/x-python",
   "name": "python",
   "nbconvert_exporter": "python",
   "pygments_lexer": "ipython3",
   "version": "3.13.0"
  }
 },
 "nbformat": 4,
 "nbformat_minor": 4
}
